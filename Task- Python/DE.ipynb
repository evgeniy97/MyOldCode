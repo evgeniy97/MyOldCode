{
 "cells": [
  {
   "cell_type": "code",
   "execution_count": 8,
   "metadata": {},
   "outputs": [],
   "source": [
    "import matplotlib.pyplot as plt\n",
    "import numpy as np"
   ]
  },
  {
   "cell_type": "code",
   "execution_count": 231,
   "metadata": {},
   "outputs": [],
   "source": [
    "class Point:\n",
    "    \"\"\"\n",
    "    Класс точка, что-бы проще было хранить точки\n",
    "    \"\"\"\n",
    "    def __init__(self, x, y):\n",
    "        self.x = x\n",
    "        self.y = y\n",
    "        self.check_borders()\n",
    "\n",
    "    # function to add two vectors\n",
    "    def __add__(self, other):\n",
    "        return Point(self.x+other.x, self.y+other.y)\n",
    "\n",
    "    def __call__(self,x,y):\n",
    "        return Point(x,y)\n",
    "    \n",
    "    def check_borders(self): # Можно в класс точку убрать\n",
    "        if ( (self.x < 0) and (self.y < 0) and (self.y > y_max)):\n",
    "            print('I am out')\n",
    "    \n",
    "    # function to subtract vectors\n",
    "    def __sub__(self, other):\n",
    "        return Point(self.x-other.x, self.y-other.y)"
   ]
  },
  {
   "cell_type": "code",
   "execution_count": 232,
   "metadata": {},
   "outputs": [],
   "source": [
    "y_max = 100\n",
    "def check_borders(Point): # Можно в класс точку убрать\n",
    "    \"\"\"\n",
    "    Проверяем в пределах ли рамки наша точка, то есть True - все хорошо\n",
    "    \"\"\"\n",
    "    return (Point.x > 0) and (Point.y > 0) and (Point.y < y_max)"
   ]
  },
  {
   "cell_type": "code",
   "execution_count": 233,
   "metadata": {},
   "outputs": [],
   "source": [
    "# function to rotate a vector by a certain angle\n",
    "def rotate_point(vec, angle, deg=False):\n",
    "    cos_angle = np.cos(angle)\n",
    "    sin_angle = np.sin(angle)\n",
    "    rotated_point = Point(vec.x*cos_angle - vec.y*sin_angle, vec.x*sin_angle + vec.y*cos_angle)\n",
    "    return rotated_point"
   ]
  },
  {
   "cell_type": "code",
   "execution_count": 234,
   "metadata": {},
   "outputs": [],
   "source": [
    "class rectangle:\n",
    "    def __init__(self,Point,width,height,angle=0):\n",
    "        self.Point_A = Point\n",
    "        self.width = width\n",
    "        self.height = height\n",
    "        self.angle = angle\n",
    "        \n",
    "        # calcalute other point\n",
    "        self.Point_B = self.Point_A + rotate_point(Point(self.width, 0), self.angle)\n",
    "        self.Point_C = self.Point_A + rotate_point(Point(self.width,self.height), self.angle)\n",
    "        self.Point_D = self.Point_A + rotate_point(Point(0, height), self.angle)\n",
    "        \n",
    "        self.Points = [self.Point_A,self.Point_B,self.Point_C,self.Point_D]"
   ]
  },
  {
   "cell_type": "code",
   "execution_count": 235,
   "metadata": {},
   "outputs": [],
   "source": [
    "def draw_rects(rect1, rect2):\n",
    "    def set_xy(rect):\n",
    "        xy = np.array([[rect.Point_A.x, rect.Point_A.y], [rect.Point_B.x, rect.Point_B.y], [rect.Point_C.x, rect.Point_C.y],\n",
    "                       [rect.Point_D.x, rect.Point_D.y]])\n",
    "        xs = xy[:, 0]\n",
    "        ys = xy[:, 1]\n",
    "        return xy, xs, ys\n",
    "    \n",
    "    #print(rect1)\n",
    "    #print(rect2)\n",
    "    xy1, xs1, ys1 = set_xy(rect1)\n",
    "    xy2, xs2, ys2 = set_xy(rect2)\n",
    "    \n",
    "    plt.figure(figsize=(6, 6))\n",
    "    plt.scatter(xs1, ys1, s=70, color='red')\n",
    "    plt.scatter(xs2, ys2, s=70, color='blue')\n",
    "\n",
    "    r1 = plt.Polygon(xy1, color='red', fill=0)\n",
    "    r2 = plt.Polygon(xy2, color='blue', fill=0)\n",
    "    plt.gca().add_patch(r1)\n",
    "    plt.gca().add_patch(r2)\n",
    "    plt.xlim(-5, 10)\n",
    "    plt.ylim(-5, 10)\n",
    "    plt.show()"
   ]
  },
  {
   "cell_type": "code",
   "execution_count": 236,
   "metadata": {},
   "outputs": [
    {
     "data": {
      "image/png": "[encoded data removed]",
      "text/plain": [
       "<matplotlib.figure.Figure at 0x2a9df162710>"
      ]
     },
     "metadata": {},
     "output_type": "display_data"
    }
   ],
   "source": [
    "draw_rects(rectangle(Point(1,1),4,2,3*np.pi/4),rectangle(Point(2,4),2,4, 3*np.pi/4))"
   ]
  },
  {
   "cell_type": "code",
   "execution_count": 237,
   "metadata": {},
   "outputs": [],
   "source": [
    "def check_lines(Point_A_1,Point_A_2,Point_B_1,Point_B_2):\n",
    "    # Первое при x, второе при y \n",
    "    coeff = np.array([[Point_A_1.y - Point_A_2.y,Point_A_2.x - Point_A_1.x],\n",
    "                      [Point_B_1.y - Point_B_2.y,Point_B_2.x - Point_B_1.x]])\n",
    "    free = np.array([-Point_A_1.x*Point_A_2.y + Point_A_2.x*Point_A_1.y,\n",
    "                    -Point_B_1.x*Point_B_2.y + Point_B_2.x*Point_B_1.y])\n",
    "    try:\n",
    "        ans = np.linalg.solve(coeff, free) # Не знаю аналога в JS, но тут \n",
    "    #описание https://docs.scipy.org/doc/numpy/reference/generated/numpy.linalg.solve.html\n",
    "    except np.linalg.LinAlgError:\n",
    "        #print('Не пересекаются')\n",
    "        return False\n",
    "    else: # Они не работают :(\n",
    "        if (ans[0] >= min(Point_A_1.x,Point_A_2.x) and ans[0] <= max(Point_A_1.x,Point_A_2.x) and # Лежит ли на первой линии по х\n",
    "           ans[0] >= min(Point_B_1.x,Point_B_2.x) and ans[0] <= max(Point_B_1.x,Point_B_2.x) and # Вторая по x\n",
    "           ans[1] >= min(Point_A_1.y,Point_A_2.y) and ans[1] <= max(Point_A_1.y,Point_A_2.y) and # Первая  по y\n",
    "           ans[1] >= min(Point_B_1.y,Point_B_2.y) and ans[1] <= max(Point_B_1.y,Point_B_2.y)):# Вторая по у\n",
    "            #print('Не пересекаются')\n",
    "            return ans\n",
    "        else:\n",
    "            #print('Пересечение')\n",
    "            return False"
   ]
  },
  {
   "cell_type": "code",
   "execution_count": 238,
   "metadata": {},
   "outputs": [
    {
     "data": {
      "text/plain": [
       "False"
      ]
     },
     "execution_count": 238,
     "metadata": {},
     "output_type": "execute_result"
    }
   ],
   "source": [
    "check_lines(Point(1,1),Point(1,2),Point(0,0),Point(1,0))"
   ]
  },
  {
   "cell_type": "code",
   "execution_count": 239,
   "metadata": {},
   "outputs": [],
   "source": [
    "def check_rectangle(rect1,rect2):\n",
    "    cross_points = []\n",
    "    # Переопределяем range\n",
    "    def special_range(n):\n",
    "        i = 0\n",
    "        while i < n:\n",
    "            yield i\n",
    "            i += 1\n",
    "        yield -1\n",
    "    \n",
    "    for i in special_range(len(rect1.Points)):\n",
    "        for j in special_range(len(rect2.Points)):\n",
    "            point = check_lines(rect1.Points[i-1],rect1.Points[i],rect2.Points[j-1],rect2.Points[j])\n",
    "            if type(point) != bool:\n",
    "                cross_points.append(point)\n",
    "    return cross_points"
   ]
  },
  {
   "cell_type": "code",
   "execution_count": 240,
   "metadata": {},
   "outputs": [],
   "source": [
    "def all_check(rect1, rect2):\n",
    "    points = check_rectangle(rect1,rect2)\n",
    "    \n",
    "    x = [point[0] for point in points]\n",
    "    y = [point[1] for point in points]\n",
    "    \n",
    "    def set_xy(rect):\n",
    "        xy = np.array([[rect.Point_A.x, rect.Point_A.y], [rect.Point_B.x, rect.Point_B.y], [rect.Point_C.x, rect.Point_C.y],\n",
    "                       [rect.Point_D.x, rect.Point_D.y]])\n",
    "        xs = xy[:, 0]\n",
    "        ys = xy[:, 1]\n",
    "        return xy, xs, ys\n",
    "    \n",
    "    #print(rect1)\n",
    "    #print(rect2)\n",
    "    xy1, xs1, ys1 = set_xy(rect1)\n",
    "    xy2, xs2, ys2 = set_xy(rect2)\n",
    "    \n",
    "    plt.figure(figsize=(6, 6))\n",
    "    plt.scatter(xs1, ys1, s=70, color='red')\n",
    "    plt.scatter(xs2, ys2, s=70, color='blue')\n",
    "    plt.scatter(x, y, s=70, color='green')\n",
    "    \n",
    "\n",
    "    r1 = plt.Polygon(xy1, color='red', fill=0)\n",
    "    r2 = plt.Polygon(xy2, color='blue', fill=0)\n",
    "    plt.gca().add_patch(r1)\n",
    "    plt.gca().add_patch(r2)\n",
    "    plt.xlim(-5, 10)\n",
    "    plt.ylim(-5, 10)\n",
    "    plt.show()"
   ]
  },
  {
   "cell_type": "code",
   "execution_count": 241,
   "metadata": {},
   "outputs": [
    {
     "data": {
      "image/png": "[encoded data removed]",
      "text/plain": [
       "<matplotlib.figure.Figure at 0x2a9df0f7048>"
      ]
     },
     "metadata": {},
     "output_type": "display_data"
    }
   ],
   "source": [
    "all_check(rectangle(Point(1,1),4,2,3*np.pi/4),rectangle(Point(2,4),2,4, 3*np.pi/4))"
   ]
  },
  {
   "cell_type": "code",
   "execution_count": 242,
   "metadata": {},
   "outputs": [
    {
     "data": {
      "image/png": "[encoded data removed]",
      "text/plain": [
       "<matplotlib.figure.Figure at 0x2a9df162f28>"
      ]
     },
     "metadata": {},
     "output_type": "display_data"
    }
   ],
   "source": [
    "all_check(rectangle(Point(1,3),4,2),rectangle(Point(3,1),3,5))"
   ]
  },
  {
   "cell_type": "code",
   "execution_count": 243,
   "metadata": {},
   "outputs": [
    {
     "data": {
      "image/png": "[encoded data removed]",
      "text/plain": [
       "<matplotlib.figure.Figure at 0x2a9df0cc5f8>"
      ]
     },
     "metadata": {},
     "output_type": "display_data"
    }
   ],
   "source": [
    "all_check(rectangle(Point(1,3),8,2),rectangle(Point(3,1),3,5))"
   ]
  },
  {
   "cell_type": "code",
   "execution_count": 244,
   "metadata": {},
   "outputs": [
    {
     "data": {
      "image/png": "[encoded data removed]",
      "text/plain": [
       "<matplotlib.figure.Figure at 0x2a9df218b00>"
      ]
     },
     "metadata": {},
     "output_type": "display_data"
    }
   ],
   "source": [
    "all_check(rectangle(Point(1,1),4,2),rectangle(Point(2,4),2,4))"
   ]
  },
  {
   "cell_type": "code",
   "execution_count": 245,
   "metadata": {},
   "outputs": [
    {
     "data": {
      "image/png": "[encoded data removed]",
      "text/plain": [
       "<matplotlib.figure.Figure at 0x2a9defff128>"
      ]
     },
     "metadata": {},
     "output_type": "display_data"
    }
   ],
   "source": [
    "all_check(rectangle(Point(1,3),4,2,np.pi/2),rectangle(Point(3,1),3,5))"
   ]
  },
  {
   "cell_type": "code",
   "execution_count": 246,
   "metadata": {},
   "outputs": [
    {
     "data": {
      "image/png": "[encoded data removed]",
      "text/plain": [
       "<matplotlib.figure.Figure at 0x2a9df09f828>"
      ]
     },
     "metadata": {},
     "output_type": "display_data"
    }
   ],
   "source": [
    "all_check(rectangle(Point(0,2),6,5),rectangle(Point(4,4),1,1))"
   ]
  },
  {
   "cell_type": "code",
   "execution_count": null,
   "metadata": {},
   "outputs": [],
   "source": []
  },
  {
   "cell_type": "code",
   "execution_count": null,
   "metadata": {},
   "outputs": [],
   "source": []
  }
 ],
 "metadata": {
  "kernelspec": {
   "display_name": "Python 3",
   "language": "python",
   "name": "python3"
  },
  "language_info": {
   "codemirror_mode": {
    "name": "ipython",
    "version": 3
   },
   "file_extension": ".py",
   "mimetype": "text/x-python",
   "name": "python",
   "nbconvert_exporter": "python",
   "pygments_lexer": "ipython3",
   "version": "3.6.4"
  }
 },
 "nbformat": 4,
 "nbformat_minor": 2
}
