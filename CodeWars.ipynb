{
 "cells": [
  {
   "cell_type": "markdown",
   "metadata": {},
   "source": [
    "Given two arrays of strings a1 and a2 return a sorted array r in lexicographical order of the strings of a1 which are substrings of strings of a2.\n",
    "\n",
    "#Example 1: a1 = [\"arp\", \"live\", \"strong\"]\n",
    "\n",
    "a2 = [\"lively\", \"alive\", \"harp\", \"sharp\", \"armstrong\"]\n",
    "\n",
    "returns [\"arp\", \"live\", \"strong\"]\n",
    "\n",
    "#Example 2: a1 = [\"tarp\", \"mice\", \"bull\"]\n",
    "\n",
    "a2 = [\"lively\", \"alive\", \"harp\", \"sharp\", \"armstrong\"]\n",
    "\n",
    "returns []\n",
    "\n",
    "Notes:\n",
    "Arrays are written in \"general\" notation. See \"Your Test Cases\" for examples in your language.\n",
    "\n",
    "In Shell bash a1 and a2 are strings. The return is a string where words are separated by commas.\n",
    "\n",
    "Beware: r must be without duplicates.\n",
    "Don't mutate the inputs."
   ]
  },
  {
   "cell_type": "code",
   "execution_count": 17,
   "metadata": {},
   "outputs": [],
   "source": [
    "def in_array(array1, array2):\n",
    "    new_array = set()\n",
    "    for sub_word in array1:\n",
    "        for word in array2:\n",
    "            if sub_word in word:\n",
    "                new_array.add(sub_word)\n",
    "    return sorted(new_array)"
   ]
  },
  {
   "cell_type": "code",
   "execution_count": 46,
   "metadata": {},
   "outputs": [],
   "source": [
    "def in_array(array1, array2):\n",
    "    return sorted(set([e for e in array1 if e in ' '.join(array2)]))"
   ]
  },
  {
   "cell_type": "code",
   "execution_count": 43,
   "metadata": {},
   "outputs": [
    {
     "data": {
      "text/plain": [
       "['', 'arp', 'live', 'strong', 'www']"
      ]
     },
     "execution_count": 43,
     "metadata": {},
     "output_type": "execute_result"
    }
   ],
   "source": [
    "in_array([\"arp\", \"live\", \"strong\",\"www\"],[\"lively\", \"alive\", \"harp\", \"sharp\", \"armstrong\"])"
   ]
  },
  {
   "cell_type": "markdown",
   "metadata": {},
   "source": [
    "The word i18n is a common abbreviation of internationalization in the developer community, used instead of typing the whole word and trying to spell it correctly. Similarly, a11y is an abbreviation of accessibility.\n",
    "\n",
    "Write a function that takes a string and turns any and all \"words\" (see below) within that string of length 4 or greater into an abbreviation, following these rules:\n",
    "\n",
    "A \"word\" is a sequence of alphabetical characters. By this definition, any other character like a space or hyphen (eg. \"elephant-ride\") will split up a series of letters into two words (eg. \"elephant\" and \"ride\").\n",
    "The abbreviated version of the word should have the first letter, then the number of removed characters, then the last letter (eg. \"elephant ride\" => \"e6t r2e\")."
   ]
  },
  {
   "cell_type": "code",
   "execution_count": 55,
   "metadata": {},
   "outputs": [],
   "source": [
    "def abbreviate(s):\n",
    "    new_str = ''\n",
    "    if '-' in s:\n",
    "        for word in s.split('-'):\n",
    "            if len(word) > 3:\n",
    "                new_str += ''.join([word[0],str(len(word) - 2),word[-1]])\n",
    "                new_str += '-'\n",
    "            else: \n",
    "                new_str += word\n",
    "                new_str += '-'\n",
    "        new_str = new_str[:-1]\n",
    "    else:\n",
    "        if len(s) > 3:\n",
    "                new_str += ''.join([s[0],str(len(s) - 2),s[-1]])\n",
    "        else: \n",
    "            new_str += s\n",
    "    return new_str"
   ]
  },
  {
   "cell_type": "code",
   "execution_count": 54,
   "metadata": {},
   "outputs": [
    {
     "data": {
      "text/plain": [
       "'e6tr2e'"
      ]
     },
     "execution_count": 54,
     "metadata": {},
     "output_type": "execute_result"
    }
   ],
   "source": [
    "abbreviate('elephant-ride')"
   ]
  },
  {
   "cell_type": "markdown",
   "metadata": {},
   "source": [
    "here is an array with some numbers. All numbers are equal except for one. Try to find it!\n",
    "\n",
    "findUniq([ 1, 1, 1, 2, 1, 1 ]) === 2\n",
    "findUniq([ 0, 0, 0.55, 0, 0 ]) === 0.55\n",
    "It’s guaranteed that array contains more than 3 numbers.\n",
    "\n",
    "The tests contain some very huge arrays, so think about performance."
   ]
  },
  {
   "cell_type": "code",
   "execution_count": null,
   "metadata": {},
   "outputs": [],
   "source": [
    "def find_uniq(arr):\n",
    "    # your code here\n",
    "    return n   # n: unique integer in the array"
   ]
  },
  {
   "cell_type": "code",
   "execution_count": 1,
   "metadata": {},
   "outputs": [],
   "source": [
    "arr = [1,2,1]"
   ]
  },
  {
   "cell_type": "code",
   "execution_count": 13,
   "metadata": {},
   "outputs": [
    {
     "name": "stdout",
     "output_type": "stream",
     "text": [
      "1\n",
      "2\n"
     ]
    }
   ],
   "source": [
    "for s in set(arr):\n",
    "    if arr.count(s) == 1:\n",
    "        return s"
   ]
  },
  {
   "cell_type": "markdown",
   "metadata": {},
   "source": [
    "Given a number, return a string with dash'-'marks before and after each odd integer, but do not begin or end the string with a dash mark."
   ]
  },
  {
   "cell_type": "code",
   "execution_count": null,
   "metadata": {},
   "outputs": [],
   "source": [
    "def dashatize(num):\n",
    "    s = ''\n",
    "    if num == None:\n",
    "        return 'None'\n",
    "    for digit in str(abs(num)):\n",
    "        if int(digit) % 2 == 1:\n",
    "            s += '-{}-'.format(digit)\n",
    "        else:\n",
    "            s += digit\n",
    "    if s[0] == '-':\n",
    "        s = s[1:]\n",
    "    if s[-1] == '-':\n",
    "        s = s[:-1]\n",
    "    s = s.replace('--','-')\n",
    "    return s"
   ]
  },
  {
   "cell_type": "markdown",
   "metadata": {},
   "source": [
    "The maximum sum subarray problem consists in finding the maximum sum of a contiguous subsequence in an array or list of integers:\n",
    "\n",
    "maxSequence([-2, 1, -3, 4, -1, 2, 1, -5, 4])\n",
    "# should be 6: [4, -1, 2, 1]\n",
    "Easy case is when the list is made up of only positive numbers and the maximum sum is the sum of the whole array. If the list is made up of only negative numbers, return 0 instead.\n",
    "\n",
    "Empty list is considered to have zero greatest sum. Note that the empty list or array is also a valid sublist/subarray."
   ]
  },
  {
   "cell_type": "code",
   "execution_count": 1,
   "metadata": {},
   "outputs": [],
   "source": [
    "def maxSequence(arr):\n",
    "    _sum_ = 0\n",
    "    for start in range(len(arr)):\n",
    "        for finish in range(len(arr),start - 1,-1):\n",
    "            if sum(arr[start:finish]) > _sum_:\n",
    "                _sum_ = sum(arr[start:finish])\n",
    "    return _sum_"
   ]
  },
  {
   "cell_type": "code",
   "execution_count": null,
   "metadata": {},
   "outputs": [],
   "source": [
    "def maxSequence(arr):\n",
    "    return max([sum(arr[i:j]) for i in range(len(arr)+1) for j in range(len(arr)+1)])"
   ]
  },
  {
   "cell_type": "markdown",
   "metadata": {},
   "source": [
    "Wikipedia article on Pascal's Triangle: http://en.wikipedia.org/wiki/Pascal's_triangle\n",
    "\n",
    "Write a function that, given a depth (n), returns a single-dimensional array/list representing Pascal's Triangle to the n-th level.\n",
    "\n",
    "For example:"
   ]
  },
  {
   "cell_type": "code",
   "execution_count": null,
   "metadata": {},
   "outputs": [],
   "source": [
    "def pascals_triangle(n):\n",
    "    pascal = [[1]]\n",
    "    for i in range(1,n + 1):\n",
    "        pascal.append([])\n",
    "        for j in range(len(pascal[-2]) + 1):\n",
    "            "
   ]
  },
  {
   "cell_type": "markdown",
   "metadata": {},
   "source": [
    "You have an array of numbers.\n",
    "Your task is to sort ascending odd numbers but even numbers must be on their places.\n",
    "\n",
    "Zero isn't an odd number and you don't need to move it. If you have an empty array, you need to return it.\n",
    "\n",
    "Example\n",
    "\n",
    "sort_array([5, 3, 2, 8, 1, 4]) == [1, 3, 2, 8, 5, 4]"
   ]
  },
  {
   "cell_type": "code",
   "execution_count": 15,
   "metadata": {},
   "outputs": [],
   "source": [
    "def sort_array(source_array):\n",
    "    odd_num = sorted(list(filter(lambda a: a != 0,[x if x%2==1 else 0 for x in source_array])))\n",
    "    new_array = []\n",
    "    j = 0\n",
    "    for i in range(len(source_array)):\n",
    "        if source_array[i] % 2 == 0:\n",
    "            new_array.append(source_array[i])\n",
    "        else:\n",
    "            new_array.append(odd_num[j])\n",
    "            j += 1\n",
    "    return new_array"
   ]
  },
  {
   "cell_type": "code",
   "execution_count": 16,
   "metadata": {},
   "outputs": [
    {
     "data": {
      "text/plain": [
       "[1, 3, 2, 8, 5, 4]"
      ]
     },
     "execution_count": 16,
     "metadata": {},
     "output_type": "execute_result"
    }
   ],
   "source": [
    "def sort_array(arr):\n",
    "    odds = sorted((x for x in arr if x%2 != 0), reverse=True)\n",
    "    return [x if x%2==0 else odds.pop() for x in arr]"
   ]
  },
  {
   "cell_type": "markdown",
   "metadata": {},
   "source": [
    "Given an array of positive or negative integers\n",
    "\n",
    "I= [i1,..,in]\n",
    "\n",
    "you have to produce a sorted array P of the form\n",
    "\n",
    "[ [p, sum of all ij of I for which p is a prime factor (p positive) of ij] ...]\n",
    "\n",
    "P will be sorted by increasing order of the prime numbers. The final result has to be given as a string in Java, C#, C, C++ and as an array of arrays in other languages.\n",
    "\n",
    "Example:\n",
    "\n",
    "I = [12, 15] # result = [[2, 12], [3, 27], [5, 15]]\n",
    "[2, 3, 5] is the list of all prime factors of the elements of I, hence the result.\n",
    "\n",
    "Notes:\n",
    "\n",
    "It can happen that a sum is 0 if some numbers are negative!\n",
    "Example: I = [15, 30, -45] 5 divides 15, 30 and (-45) so 5 appears in the result, the sum of the numbers for which 5 is a factor is 0 so we have [5, 0] in the result amongst others.\n",
    "\n",
    "In Fortran - as in any other language - the returned string is not permitted to contain any redundant trailing whitespace: you can use dynamically allocated character strings."
   ]
  },
  {
   "cell_type": "code",
   "execution_count": 53,
   "metadata": {},
   "outputs": [],
   "source": [
    "def sum_for_list(lst: list):\n",
    "    result = []\n",
    "    primes = [2,3]\n",
    "    i = 4\n",
    "    while not (i > abs(max(lst,key=lambda x: abs(x)))):\n",
    "        flag = True\n",
    "        for prime in primes:\n",
    "            if i % prime == 0:\n",
    "                flag = False\n",
    "                break\n",
    "        if flag: primes.append(i)\n",
    "        i += 1\n",
    "    print(primes)\n",
    "    for prime in primes:\n",
    "        pr_sum = 0\n",
    "        flag = False\n",
    "        for x in lst:\n",
    "            if x % prime == 0:\n",
    "                flag = True\n",
    "                pr_sum += x\n",
    "        if flag: result.append([prime,pr_sum])\n",
    "    return result"
   ]
  },
  {
   "cell_type": "code",
   "execution_count": 54,
   "metadata": {},
   "outputs": [],
   "source": [
    "def sum_for_list(lst):\n",
    "    factors = {i for k in lst for i in xrange(2, abs(k)+1) if not k % i}\n",
    "    prime_factors = {i for i in factors if not [j for j in factors-{i} if not i % j]}\n",
    "    return [[p, sum(e for e in lst if not e % p)] for p in sorted(prime_factors)]"
   ]
  },
  {
   "cell_type": "code",
   "execution_count": 49,
   "metadata": {},
   "outputs": [
    {
     "data": {
      "text/plain": [
       "0"
      ]
     },
     "execution_count": 49,
     "metadata": {},
     "output_type": "execute_result"
    }
   ],
   "source": [
    "28265 % 5653"
   ]
  },
  {
   "cell_type": "code",
   "execution_count": 52,
   "metadata": {},
   "outputs": [
    {
     "data": {
      "text/plain": [
       "-1000"
      ]
     },
     "execution_count": 52,
     "metadata": {},
     "output_type": "execute_result"
    }
   ],
   "source": [
    "max([-1000,1],key=lambda x: abs(x))"
   ]
  },
  {
   "cell_type": "code",
   "execution_count": null,
   "metadata": {},
   "outputs": [],
   "source": []
  }
 ],
 "metadata": {
  "kernelspec": {
   "display_name": "Python 3",
   "language": "python",
   "name": "python3"
  },
  "language_info": {
   "codemirror_mode": {
    "name": "ipython",
    "version": 3
   },
   "file_extension": ".py",
   "mimetype": "text/x-python",
   "name": "python",
   "nbconvert_exporter": "python",
   "pygments_lexer": "ipython3",
   "version": "3.6.4"
  }
 },
 "nbformat": 4,
 "nbformat_minor": 2
}
