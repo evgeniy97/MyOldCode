{
 "cells": [
  {
   "cell_type": "code",
   "execution_count": 1,
   "metadata": {},
   "outputs": [],
   "source": [
    "import numpy as np"
   ]
  },
  {
   "cell_type": "code",
   "execution_count": 2,
   "metadata": {},
   "outputs": [],
   "source": [
    "def GrayСode(BinLen=32):\n",
    "    return np.random.randint(2, size=BinLen)"
   ]
  },
  {
   "cell_type": "code",
   "execution_count": 3,
   "metadata": {},
   "outputs": [],
   "source": [
    "def GrayToBinar(bit_string):\n",
    "    \"\"\"\n",
    "    Правило перевода из кода Грея в позиционный код: каждый разряд в позиционном\n",
    "    коде равен сумме по модулю два этого и всех старших разрядов в коде Грея\n",
    "    \"\"\"\n",
    "    return [sum(bit_string[:i]) % 2 for i in range(len(bit_string),0,-1)][::-1]"
   ]
  },
  {
   "cell_type": "code",
   "execution_count": 4,
   "metadata": {},
   "outputs": [],
   "source": [
    "def BinaryToInt(bit_string):\n",
    "    \"\"\"\n",
    "    \"\"\"\n",
    "    return sum([int(x) * 2 ** y for x, y in zip(list(bit_string), range(len(bit_string) - 1, -1, -1))])"
   ]
  },
  {
   "cell_type": "code",
   "execution_count": 5,
   "metadata": {},
   "outputs": [],
   "source": [
    "class Decode:\n",
    "    \"\"\"\n",
    "    Полный цикл декодирования: Грей -> двоичный -> целое -> нецелое\n",
    "    \"\"\"\n",
    "    def __init__(self,a,b,bit_string):\n",
    "        self.A = a\n",
    "        self.B = b\n",
    "        self.BitString = bit_string\n",
    "        self.k = 2**len(bit_string) - 1 \n",
    "        self.h = (b - a)/(self.k - 1)\n",
    "    \n",
    "    def decode(self):\n",
    "        binary_srting = GrayToBinar(self.BitString)\n",
    "        #print('binary: ',binary_srting)\n",
    "        integer = BinaryToInt(binary_srting)\n",
    "        #print('integer: ',integer)\n",
    "        if integer == 0:\n",
    "            return self.A\n",
    "        elif integer == self.k:\n",
    "            return self.B\n",
    "        else:\n",
    "            return ((self.A + (integer - 1)*self.h + (self.A+integer*self.h)))/2"
   ]
  },
  {
   "cell_type": "code",
   "execution_count": 23,
   "metadata": {},
   "outputs": [],
   "source": [
    "def SinglePointCrossing(parent_one,parent_two):\n",
    "    \"\"\"\n",
    "    По хорошему нужен более качественный генератор случайных чисел\n",
    "    \"\"\"\n",
    "    point = np.random.randint(min(len(parent_one),len(parent_two)) - 1)\n",
    "    return np.hstack([parent_one[:point],parent_two[point:]])"
   ]
  },
  {
   "cell_type": "code",
   "execution_count": 24,
   "metadata": {},
   "outputs": [],
   "source": [
    "def Mutation(individual,probability = 0.3):\n",
    "    \"\"\"\n",
    "    вероятность поменять ген\n",
    "    \"\"\"\n",
    "    for i in range(len(individual)):\n",
    "        if np.random.rand() > probability:\n",
    "            individual[i] = (individual[i] + 1) % 2\n",
    "    return individual"
   ]
  },
  {
   "cell_type": "code",
   "execution_count": 25,
   "metadata": {},
   "outputs": [],
   "source": [
    "def f(x):\n",
    "    return -(x**2)"
   ]
  },
  {
   "cell_type": "code",
   "execution_count": 26,
   "metadata": {},
   "outputs": [],
   "source": [
    "a = -5\n",
    "b = 5"
   ]
  },
  {
   "cell_type": "code",
   "execution_count": 84,
   "metadata": {},
   "outputs": [],
   "source": [
    "IndNum = 10\n",
    "population = [GrayСode(16) for i in range(IndNum)] # Это вот инициализация "
   ]
  },
  {
   "cell_type": "code",
   "execution_count": 85,
   "metadata": {},
   "outputs": [],
   "source": [
    "# Функция приспособленности\n",
    "def MyFunc(x):\n",
    "    return f(Decode(a,b,x).decode())"
   ]
  },
  {
   "cell_type": "code",
   "execution_count": 93,
   "metadata": {},
   "outputs": [],
   "source": [
    "for i in range(10000):\n",
    "    #print('=== STEP {} ==='.format(i))\n",
    "    population = sorted(population,key=MyFunc,reverse=True) # reversed = True, когда ищем максимум\n",
    "    # Хотим взять n самых крутых родителей\n",
    "    to_produce = population[:4]\n",
    "    # Продумать этот момент получше\n",
    "    #print(population)\n",
    "    first_children = Mutation(SinglePointCrossing(to_produce[0],to_produce[1]))\n",
    "    #print(first_children)\n",
    "    second_children = Mutation(SinglePointCrossing(to_produce[2],to_produce[3])) \n",
    "    #print(second_children)\n",
    "    population = np.vstack([population,first_children,second_children])\n",
    "    population = sorted(population,key=MyFunc,reverse=True)[:10] # оставляем 10 лучших особей"
   ]
  },
  {
   "cell_type": "code",
   "execution_count": 90,
   "metadata": {},
   "outputs": [
    {
     "data": {
      "text/plain": [
       "-0.027085177159947627"
      ]
     },
     "execution_count": 90,
     "metadata": {},
     "output_type": "execute_result"
    }
   ],
   "source": [
    "Decode(a,b,population[0]).decode()"
   ]
  },
  {
   "cell_type": "code",
   "execution_count": 94,
   "metadata": {},
   "outputs": [
    {
     "name": "stdout",
     "output_type": "stream",
     "text": [
      "[0 1 0 0 0 0 0 0 0 0 0 0 0 0 0 0] -7.629627368999081e-05\n",
      "[0 1 0 0 0 0 0 0 0 0 0 0 0 0 0 1] -0.00022888882106997244\n",
      "[1 1 0 0 0 0 0 0 0 0 0 0 0 0 1 1] 0.00038148136844995406\n",
      "[0 1 0 0 0 0 0 0 0 0 0 0 0 1 0 1] -0.0009918515579698806\n",
      "[0 1 0 0 0 0 0 0 0 0 0 0 1 0 0 0] -0.002365184484389715\n",
      "[0 1 0 0 0 0 0 0 0 0 0 1 1 0 0 0] -0.002517777031769697\n",
      "[1 1 0 0 0 0 0 0 0 0 0 1 1 0 0 1] 0.0026703695791496784\n",
      "[0 1 0 0 0 0 0 0 0 0 0 1 1 0 0 1] -0.0026703695791496784\n",
      "[1 1 0 0 0 0 0 0 0 0 0 1 1 0 1 1] 0.00282296212652966\n",
      "[1 1 0 0 0 0 0 0 0 0 0 1 1 1 1 0] 0.0031281472212896233\n"
     ]
    }
   ],
   "source": [
    "for i in population:\n",
    "    print(i, Decode(a,b,i).decode())"
   ]
  },
  {
   "cell_type": "code",
   "execution_count": null,
   "metadata": {},
   "outputs": [],
   "source": []
  }
 ],
 "metadata": {
  "kernelspec": {
   "display_name": "Python 3",
   "language": "python",
   "name": "python3"
  },
  "language_info": {
   "codemirror_mode": {
    "name": "ipython",
    "version": 3
   },
   "file_extension": ".py",
   "mimetype": "text/x-python",
   "name": "python",
   "nbconvert_exporter": "python",
   "pygments_lexer": "ipython3",
   "version": "3.6.4"
  }
 },
 "nbformat": 4,
 "nbformat_minor": 2
}
