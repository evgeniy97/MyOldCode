{
 "cells": [
  {
   "cell_type": "code",
   "execution_count": 1,
   "metadata": {},
   "outputs": [],
   "source": [
    "import numpy as np\n",
    "import random"
   ]
  },
  {
   "cell_type": "code",
   "execution_count": 2,
   "metadata": {},
   "outputs": [],
   "source": [
    "def GrayСode(BinLen=32):\n",
    "    return np.random.randint(2, size=BinLen)"
   ]
  },
  {
   "cell_type": "code",
   "execution_count": 3,
   "metadata": {},
   "outputs": [],
   "source": [
    "def GrayToBinar(bit_string):\n",
    "    \"\"\"\n",
    "    Правило перевода из кода Грея в позиционный код: каждый разряд в позиционном\n",
    "    коде равен сумме по модулю два этого и всех старших разрядов в коде Грея\n",
    "    \"\"\"\n",
    "    return [sum(bit_string[:i]) % 2 for i in range(len(bit_string),0,-1)][::-1]"
   ]
  },
  {
   "cell_type": "code",
   "execution_count": 4,
   "metadata": {},
   "outputs": [],
   "source": [
    "def BinaryToInt(bit_string):\n",
    "    \"\"\"\n",
    "    \"\"\"\n",
    "    return sum([int(x) * 2 ** y for x, y in zip(list(bit_string), range(len(bit_string) - 1, -1, -1))])"
   ]
  },
  {
   "cell_type": "code",
   "execution_count": 5,
   "metadata": {},
   "outputs": [],
   "source": [
    "class Decode:\n",
    "    \"\"\"\n",
    "    Полный цикл декодирования: Грей -> двоичный -> целое -> нецелое\n",
    "    \"\"\"\n",
    "    def __init__(self,a,b,bit_string):\n",
    "        self.A = a\n",
    "        self.B = b\n",
    "        self.BitString = bit_string\n",
    "        self.k = 2**len(bit_string) - 1 \n",
    "        self.h = (b - a)/(self.k - 1)\n",
    "    \n",
    "    def decode(self):\n",
    "        binary_srting = GrayToBinar(self.BitString)\n",
    "        #print('binary: ',binary_srting)\n",
    "        integer = BinaryToInt(binary_srting)\n",
    "        #print('integer: ',integer)\n",
    "        if integer == 0:\n",
    "            return self.A\n",
    "        elif integer == self.k:\n",
    "            return self.B\n",
    "        else:\n",
    "            return ((self.A + (integer - 1)*self.h + (self.A+integer*self.h)))/2"
   ]
  },
  {
   "cell_type": "code",
   "execution_count": 6,
   "metadata": {},
   "outputs": [],
   "source": [
    "def SinglePointCrossing(parent_one,parent_two):\n",
    "    \"\"\"\n",
    "    По хорошему нужен более качественный генератор случайных чисел\n",
    "    \"\"\"\n",
    "    point = np.random.randint(min(len(parent_one),len(parent_two)) - 1)\n",
    "    return np.hstack([parent_one[:point],parent_two[point:]])"
   ]
  },
  {
   "cell_type": "code",
   "execution_count": 27,
   "metadata": {},
   "outputs": [],
   "source": [
    "def Mutation(individual,probability = 0.5):\n",
    "    \"\"\"\n",
    "    вероятность поменять ген\n",
    "    \"\"\"\n",
    "    for i in range(len(individual)):\n",
    "        if np.random.rand() > probability:\n",
    "            individual[i] = (individual[i] + 1) % 2\n",
    "    return individual"
   ]
  },
  {
   "cell_type": "code",
   "execution_count": 8,
   "metadata": {},
   "outputs": [],
   "source": [
    "def f(x):\n",
    "    return -(x**2)"
   ]
  },
  {
   "cell_type": "code",
   "execution_count": 9,
   "metadata": {},
   "outputs": [],
   "source": [
    "a = -5\n",
    "b = 5"
   ]
  },
  {
   "cell_type": "code",
   "execution_count": 57,
   "metadata": {},
   "outputs": [],
   "source": [
    "IndNum = 10\n",
    "population = [GrayСode(8) for i in range(IndNum)] # Это вот инициализация "
   ]
  },
  {
   "cell_type": "code",
   "execution_count": 58,
   "metadata": {},
   "outputs": [],
   "source": [
    "# Функция приспособленности\n",
    "def MyFunc(x):\n",
    "    return f(Decode(a,b,x).decode())"
   ]
  },
  {
   "cell_type": "code",
   "execution_count": 84,
   "metadata": {},
   "outputs": [],
   "source": [
    "ChildrenNum = 5\n",
    "MutationNum = 5\n",
    "TopNum = 10\n",
    "\n",
    "IndNum = 20\n",
    "population = [GrayСode(32) for i in range(IndNum)] # Это вот инициализация \n",
    "\n",
    "for i in range(10):\n",
    "    #print('=== STEP {} ==='.format(i))\n",
    "    population = sorted(population,key=MyFunc,reverse=True) # reversed = True, когда ищем максимум\n",
    "    # Хотим взять n самых крутых родителей\n",
    "    children = []\n",
    "    for j in range(ChildrenNum):\n",
    "        children.append(SinglePointCrossing(random.sample(population[:TopNum], 1)[0],random.sample(population[:TopNum], 1)[0]))\n",
    "    # Продумать этот момент получше\n",
    "    for j in range(MutationNum):\n",
    "        children.append(Mutation(random.sample(population, 1)[0]))\n",
    "    population = np.vstack([population,children])\n",
    "    population = sorted(population,key=MyFunc,reverse=True)[:10] # оставляем 10 лучших особей"
   ]
  },
  {
   "cell_type": "code",
   "execution_count": 85,
   "metadata": {
    "scrolled": true
   },
   "outputs": [
    {
     "name": "stdout",
     "output_type": "stream",
     "text": [
      "0.12102795886855056\n",
      "0.1210479590208493\n",
      "0.12104796134915574\n",
      "0.12107562628624713\n",
      "0.12107564258439307\n",
      "0.12309264746638604\n",
      "0.16215514748457593\n",
      "0.1649732713890142\n",
      "0.1649733552080459\n",
      "0.1649733552080459\n"
     ]
    }
   ],
   "source": [
    "for i in population:\n",
    "    print(Decode(a,b,i).decode())"
   ]
  },
  {
   "cell_type": "code",
   "execution_count": 112,
   "metadata": {},
   "outputs": [],
   "source": [
    "def InitFunction(BinLen,IndNum):\n",
    "    return [GrayСode(BinLen) for i in range(IndNum)]"
   ]
  },
  {
   "cell_type": "code",
   "execution_count": 113,
   "metadata": {},
   "outputs": [],
   "source": [
    "class GeneticAlgorithm:\n",
    "    def __init__(self,BinLen,IndNum,MutationNum,TopNum,ChildrenNum,Steps,InitFunction,AdaptabilityFunction,MutationFunction,CrossingFunction):\n",
    "        self.BinLen = BinLen\n",
    "        self.IndNum = IndNum\n",
    "        self.ChildrenNum = ChildrenNum\n",
    "        self.MutationNum = MutationNum\n",
    "        self.TopNum = TopNum\n",
    "        self.Steps = Steps\n",
    "        self.InitFunction = InitFunction\n",
    "        self.AdaptabilityFunction = AdaptabilityFunction \n",
    "        self.MutationFunction = MutationFunction\n",
    "        self.CrossingFunction = CrossingFunction\n",
    "    \n",
    "    def run(self):\n",
    "        self.population = self.InitFunction(self.BinLen,self.IndNum)\n",
    "        for i in range(self.Steps):\n",
    "            self.population = sorted(self.population,key=self.AdaptabilityFunction,reverse=True)\n",
    "            children = []\n",
    "            for j in range(self.ChildrenNum):\n",
    "                children.append(self.CrossingFunction(\n",
    "                    random.sample(self.population[:self.TopNum], 1)[0],\n",
    "                    random.sample(self.population[:self.TopNum], 1)[0]))\n",
    "            for j in range(self.MutationNum):\n",
    "                children.append(self.MutationFunction(random.sample(self.population, 1)[0]))\n",
    "            self.population = np.vstack([self.population,children])\n",
    "            self.population = sorted(self.population,key=self.AdaptabilityFunction,reverse=True)[:10]\n",
    "        return(self.population)"
   ]
  },
  {
   "cell_type": "code",
   "execution_count": 114,
   "metadata": {},
   "outputs": [],
   "source": [
    "testGen = GeneticAlgorithm(\n",
    "    BinLen=32, IndNum=20,MutationNum=10,TopNum=10,ChildrenNum=10,Steps=100, InitFunction = InitFunction,\n",
    "    AdaptabilityFunction=MyFunc,MutationFunction=Mutation, CrossingFunction=SinglePointCrossing)"
   ]
  },
  {
   "cell_type": "code",
   "execution_count": 115,
   "metadata": {},
   "outputs": [],
   "source": [
    "answers = testGen.run()"
   ]
  },
  {
   "cell_type": "code",
   "execution_count": 116,
   "metadata": {},
   "outputs": [
    {
     "name": "stdout",
     "output_type": "stream",
     "text": [
      "-0.0029400934013255053\n",
      "-0.0029400934013255053\n",
      "-0.0029400934013255053\n",
      "-0.0029400934013255053\n",
      "-0.0029400934013255053\n",
      "-0.0029400934013255053\n",
      "-0.0029400934013255053\n",
      "-0.0029400934013255053\n",
      "-0.0029400934013255053\n",
      "-0.0029400934013255053\n"
     ]
    }
   ],
   "source": [
    "for i in answers:\n",
    "    print(Decode(-5,5,i).decode())"
   ]
  },
  {
   "cell_type": "code",
   "execution_count": null,
   "metadata": {},
   "outputs": [],
   "source": [
    "def f(x):\n",
    "    \"\"\"\n",
    "    Попробуем написать вот так\n",
    "    \"\"\"\n",
    "    return -(x[0]**2 + x[1])"
   ]
  },
  {
   "cell_type": "code",
   "execution_count": null,
   "metadata": {},
   "outputs": [],
   "source": []
  }
 ],
 "metadata": {
  "kernelspec": {
   "display_name": "Python 3",
   "language": "python",
   "name": "python3"
  },
  "language_info": {
   "codemirror_mode": {
    "name": "ipython",
    "version": 3
   },
   "file_extension": ".py",
   "mimetype": "text/x-python",
   "name": "python",
   "nbconvert_exporter": "python",
   "pygments_lexer": "ipython3",
   "version": "3.6.4"
  }
 },
 "nbformat": 4,
 "nbformat_minor": 2
}
