{
 "cells": [
  {
   "cell_type": "code",
   "execution_count": 1,
   "metadata": {},
   "outputs": [],
   "source": [
    "import numpy as np\n",
    "import random"
   ]
  },
  {
   "cell_type": "code",
   "execution_count": 5,
   "metadata": {},
   "outputs": [],
   "source": [
    "def GrayСode(BinLen=32, NDimension=1):\n",
    "    \"\"\"\n",
    "    BinLen: Length of a bit line / Длина битовой строки\n",
    "    NDimension: The dimension of the space / Размерность пространтсва \n",
    "    \"\"\"\n",
    "    return np.random.randint(2, size=[NDimension,BinLen])"
   ]
  },
  {
   "cell_type": "code",
   "execution_count": 12,
   "metadata": {},
   "outputs": [],
   "source": [
    "def GrayToBinar(GrayString):\n",
    "    \"\"\"\n",
    "    BitString: string to convert into binar code\n",
    "    \n",
    "    The rule of conversion from gray code to positional code: each digit in a positional\n",
    "    the code is the sum modulo two of this and all the high bits in the gray code\n",
    "    \n",
    "    Правило перевода из кода Грея в позиционный код: каждый разряд в позиционном\n",
    "    коде равен сумме по модулю два этого и всех старших разрядов в коде Грея\n",
    "    \"\"\"\n",
    "    binar = []\n",
    "    for number in GrayString:\n",
    "        binar.append([sum(number[:i]) % 2 for i in range(len(number),0,-1)][::-1])\n",
    "    return binar"
   ]
  },
  {
   "cell_type": "code",
   "execution_count": 14,
   "metadata": {},
   "outputs": [],
   "source": [
    "def BinaryToInt(BinaryString):\n",
    "    \"\"\"\n",
    "    BinaryString: string to convert into integer\n",
    "    \"\"\"\n",
    "    integer = []\n",
    "    for number in BinaryString:\n",
    "        integer.append(sum([int(x) * 2 ** y for x, y in zip(list(number), range(len(number) - 1, -1, -1))]))\n",
    "    return integer"
   ]
  },
  {
   "cell_type": "code",
   "execution_count": null,
   "metadata": {},
   "outputs": [],
   "source": []
  },
  {
   "cell_type": "code",
   "execution_count": 21,
   "metadata": {},
   "outputs": [],
   "source": [
    "def Decode(limits,integers,bitLen):\n",
    "    \"\"\"\n",
    "    limits: list of limit like [[a1,b1],[a2,b2]]\n",
    "    integers: number of interval\n",
    "    bitLen: length of origin binary string\n",
    "    \"\"\"\n",
    "    numbers = []\n",
    "    for limit,integer in zip(limits,integers):\n",
    "        k = 2**bitLen - 1\n",
    "        h = (limit[1] - limit[0])/(k - 1)\n",
    "        if integer == 0:\n",
    "            numbers.append(limit[0])\n",
    "        elif integer == k:\n",
    "            numbers.append(limit[1])\n",
    "        else:\n",
    "            numbers.append(((limit[0] + (integer - 1)*h + (limit[0]+integer*h)))/2)\n",
    "    return numbers"
   ]
  },
  {
   "cell_type": "code",
   "execution_count": 22,
   "metadata": {},
   "outputs": [
    {
     "data": {
      "text/plain": [
       "[-0.25, 3.25]"
      ]
     },
     "execution_count": 22,
     "metadata": {},
     "output_type": "execute_result"
    }
   ],
   "source": [
    "Decode([[-1,6],[-1,6]],[2,9],bitLen=4)"
   ]
  },
  {
   "cell_type": "code",
   "execution_count": 23,
   "metadata": {},
   "outputs": [],
   "source": [
    "# Write decode pipeline\n",
    "def DecodePipeLine(GrayString,limits):\n",
    "    return Decode(limits,BinaryToInt(GrayToBinar(GrayString)),len(GrayString[0])) "
   ]
  },
  {
   "cell_type": "code",
   "execution_count": 24,
   "metadata": {},
   "outputs": [
    {
     "data": {
      "text/plain": [
       "[-0.25, 3.25]"
      ]
     },
     "execution_count": 24,
     "metadata": {},
     "output_type": "execute_result"
    }
   ],
   "source": [
    "DecodePipeLine([[0,0,1,1],[1,1,0,1]],[[-1,6],[-1,6]])"
   ]
  },
  {
   "cell_type": "code",
   "execution_count": 25,
   "metadata": {},
   "outputs": [],
   "source": [
    "def SinglePointCrossing(parent_one,parent_two):\n",
    "    \"\"\"\n",
    "    По хорошему нужен более качественный генератор случайных чисел\n",
    "    \"\"\"\n",
    "    children = []\n",
    "    for ParentOneGen, ParentTwoGen in zip(parent_one,parent_two):\n",
    "        point = np.random.randint(min(len(ParentOneGen),len(ParentTwoGen)) - 1)\n",
    "        children.append(np.hstack([ParentOneGen[:point],ParentTwoGen[point:]]))\n",
    "    return children"
   ]
  },
  {
   "cell_type": "code",
   "execution_count": 34,
   "metadata": {},
   "outputs": [
    {
     "data": {
      "text/plain": [
       "[array([0, 0, 1, 1]), array([0, 0, 1, 1])]"
      ]
     },
     "execution_count": 34,
     "metadata": {},
     "output_type": "execute_result"
    }
   ],
   "source": [
    "SinglePointCrossing([[0,0,0,0],[0,0,0,0]],[[1,1,1,1],[1,1,1,1]])"
   ]
  },
  {
   "cell_type": "code",
   "execution_count": 46,
   "metadata": {},
   "outputs": [],
   "source": [
    "# Rewrite\n",
    "def Mutation(individual,probability = 0.5):\n",
    "    \"\"\"\n",
    "    вероятность поменять ген\n",
    "    \"\"\"\n",
    "    mutant = individual.copy()\n",
    "    for i in range(len(individual)):\n",
    "        for j in range(len(individual[i])):\n",
    "            if np.random.rand() > probability:\n",
    "                mutant[i][j] = (mutant[i][j] + 1) % 2\n",
    "    return mutant"
   ]
  },
  {
   "cell_type": "code",
   "execution_count": 49,
   "metadata": {},
   "outputs": [
    {
     "data": {
      "text/plain": [
       "[[0, 0, 1, 1], [0, 0, 1, 1]]"
      ]
     },
     "execution_count": 49,
     "metadata": {},
     "output_type": "execute_result"
    }
   ],
   "source": [
    "Mutation([[0,0,0,0],[0,0,0,0]])"
   ]
  },
  {
   "cell_type": "code",
   "execution_count": 60,
   "metadata": {},
   "outputs": [],
   "source": [
    "def f(x):\n",
    "    \"\"\"\n",
    "    Попробуем написать вот так\n",
    "    \"\"\"\n",
    "    return -(x[0]**2) + -(x[1]**2)"
   ]
  },
  {
   "cell_type": "code",
   "execution_count": null,
   "metadata": {},
   "outputs": [],
   "source": []
  },
  {
   "cell_type": "code",
   "execution_count": 61,
   "metadata": {},
   "outputs": [],
   "source": [
    "def MyFunc(x):\n",
    "    return f(DecodePipeLine(x,[[-5,5],[-5,5]]))"
   ]
  },
  {
   "cell_type": "code",
   "execution_count": 52,
   "metadata": {},
   "outputs": [],
   "source": [
    "def InitFunction(BinLen,NDimension,IndNum):\n",
    "    return [GrayСode(BinLen,NDimension) for i in range(IndNum)]"
   ]
  },
  {
   "cell_type": "code",
   "execution_count": 72,
   "metadata": {},
   "outputs": [],
   "source": [
    "class GeneticAlgorithm:\n",
    "    def __init__(self,BinLen,NDimension,IndNum,MutationNum,TopNum,ChildrenNum,Steps,InitFunction,AdaptabilityFunction,MutationFunction,CrossingFunction):\n",
    "        self.BinLen = BinLen\n",
    "        self.NDimension = NDimension\n",
    "        self.IndNum = IndNum\n",
    "        self.ChildrenNum = ChildrenNum\n",
    "        self.MutationNum = MutationNum\n",
    "        self.TopNum = TopNum\n",
    "        self.Steps = Steps\n",
    "        self.InitFunction = InitFunction\n",
    "        self.AdaptabilityFunction = AdaptabilityFunction \n",
    "        self.MutationFunction = MutationFunction\n",
    "        self.CrossingFunction = CrossingFunction\n",
    "    \n",
    "    def run(self):\n",
    "        self.population = self.InitFunction(self.BinLen,self.NDimension,self.IndNum)\n",
    "        for i in range(self.Steps):\n",
    "            self.population = sorted(self.population,key=self.AdaptabilityFunction,reverse=True)\n",
    "            children = []\n",
    "            for j in range(self.ChildrenNum):\n",
    "                children.append(self.CrossingFunction(\n",
    "                    random.sample(self.population[:self.TopNum], 1)[0],\n",
    "                    random.sample(self.population[:self.TopNum], 1)[0]))\n",
    "            for j in range(self.MutationNum):\n",
    "                children.append(self.MutationFunction(random.sample(self.population, 1)[0]))\n",
    "            self.population = np.vstack([self.population,children])\n",
    "            self.population = sorted(self.population,key=self.AdaptabilityFunction,reverse=True)[:self.IndNum]\n",
    "        return(self.population)"
   ]
  },
  {
   "cell_type": "code",
   "execution_count": 73,
   "metadata": {},
   "outputs": [],
   "source": [
    "testGen = GeneticAlgorithm(\n",
    "    BinLen=32, IndNum=20,NDimension = 2,MutationNum=10,TopNum=10,ChildrenNum=10,Steps=1000, InitFunction = InitFunction,\n",
    "    AdaptabilityFunction=MyFunc,MutationFunction=Mutation, CrossingFunction=SinglePointCrossing)"
   ]
  },
  {
   "cell_type": "code",
   "execution_count": 74,
   "metadata": {},
   "outputs": [],
   "source": [
    "answers = testGen.run()"
   ]
  },
  {
   "cell_type": "code",
   "execution_count": 75,
   "metadata": {},
   "outputs": [
    {
     "name": "stdout",
     "output_type": "stream",
     "text": [
      "[-0.0064330583002574215, -0.01389154815761895]\n",
      "[-0.0064330583002574215, -0.01389154815761895]\n",
      "[-0.0064330583002574215, -0.01389154815761895]\n",
      "[-0.0064330583002574215, -0.01389154815761895]\n",
      "[-0.0064330583002574215, -0.01389154815761895]\n",
      "[-0.0064330583002574215, -0.01389154815761895]\n",
      "[-0.0064330583002574215, -0.01389154815761895]\n",
      "[-0.0064330583002574215, -0.01389154815761895]\n",
      "[-0.0064330583002574215, -0.01389154815761895]\n",
      "[-0.0064330583002574215, -0.01389154815761895]\n",
      "[-0.0064330583002574215, -0.01389154815761895]\n",
      "[-0.0064330583002574215, -0.01389154815761895]\n",
      "[-0.0064330583002574215, -0.01389154815761895]\n",
      "[-0.0064330583002574215, -0.01389154815761895]\n",
      "[-0.0064330583002574215, -0.01389154815761895]\n",
      "[-0.0064330583002574215, -0.01389154815761895]\n",
      "[-0.0064330583002574215, -0.01389154815761895]\n",
      "[-0.0064330583002574215, -0.01389154815761895]\n",
      "[-0.0064330583002574215, -0.01389154815761895]\n",
      "[-0.0064330583002574215, -0.01389154815761895]\n"
     ]
    }
   ],
   "source": [
    "for i in answers:\n",
    "    print(DecodePipeLine(i,[[-5,5],[-5,5]]))"
   ]
  },
  {
   "cell_type": "code",
   "execution_count": 76,
   "metadata": {},
   "outputs": [],
   "source": [
    "def f(x):\n",
    "    return -(x[0]**2) - (x[1]**2) - (x[2]**2) \n",
    "\n",
    "def MyFunc(x):\n",
    "    return f(DecodePipeLine(x,[[-5,5],[-2,2],[-3,1]]))"
   ]
  },
  {
   "cell_type": "code",
   "execution_count": 77,
   "metadata": {},
   "outputs": [],
   "source": [
    "testGen = GeneticAlgorithm(\n",
    "    BinLen=32, IndNum=20,NDimension = 3,MutationNum=10,TopNum=10,ChildrenNum=10,Steps=1000, InitFunction = InitFunction,\n",
    "    AdaptabilityFunction=MyFunc,MutationFunction=Mutation, CrossingFunction=SinglePointCrossing)"
   ]
  },
  {
   "cell_type": "code",
   "execution_count": 78,
   "metadata": {},
   "outputs": [],
   "source": [
    "answers = testGen.run()"
   ]
  },
  {
   "cell_type": "code",
   "execution_count": 80,
   "metadata": {},
   "outputs": [
    {
     "name": "stdout",
     "output_type": "stream",
     "text": [
      "[-0.05899814775166945, -0.027870124684586273, 0.03308644147267881]\n",
      "[-0.05899814775166945, -0.027870124684586273, 0.03308644147267881]\n",
      "[-0.05899814775166945, -0.027870124684586273, 0.03308644147267881]\n",
      "[-0.05899814775166945, -0.027870124684586273, 0.03308644147267881]\n",
      "[-0.05899814775166945, -0.027870124684586273, 0.03308644147267881]\n",
      "[-0.05899814775166945, -0.027870124684586273, 0.03308644147267881]\n",
      "[-0.05899814775166945, -0.027870124684586273, 0.03308644147267881]\n",
      "[-0.05899814775166945, -0.027870124684586273, 0.03308644147267881]\n",
      "[-0.05899814775166945, -0.027870124684586273, 0.03308644147267881]\n",
      "[-0.05899814775166945, -0.027870124684586273, 0.03308644147267881]\n",
      "[-0.05899814775166945, -0.027870124684586273, 0.03308644147267881]\n",
      "[-0.05899814775166945, -0.027870124684586273, 0.03308644147267881]\n",
      "[-0.05899814775166945, -0.027870124684586273, 0.03308644147267881]\n",
      "[-0.05899814775166945, -0.027870124684586273, 0.03308644147267881]\n",
      "[-0.05899814775166945, -0.027870124684586273, 0.03308644147267881]\n",
      "[-0.05899814775166945, -0.027870124684586273, 0.03308644147267881]\n",
      "[-0.05899814775166945, -0.027870124684586273, 0.03308644147267881]\n",
      "[-0.05899814775166945, -0.027870124684586273, 0.03308644147267881]\n",
      "[-0.05899814775166945, -0.027870124684586273, 0.03308644147267881]\n",
      "[-0.05899814775166945, -0.027870124684586273, 0.03308644147267881]\n"
     ]
    }
   ],
   "source": [
    "for i in answers:\n",
    "    print(DecodePipeLine(i,[[-5,5],[-2,2],[-3,1]]))"
   ]
  },
  {
   "cell_type": "code",
   "execution_count": null,
   "metadata": {},
   "outputs": [],
   "source": []
  }
 ],
 "metadata": {
  "kernelspec": {
   "display_name": "Python 3",
   "language": "python",
   "name": "python3"
  },
  "language_info": {
   "codemirror_mode": {
    "name": "ipython",
    "version": 3
   },
   "file_extension": ".py",
   "mimetype": "text/x-python",
   "name": "python",
   "nbconvert_exporter": "python",
   "pygments_lexer": "ipython3",
   "version": "3.6.4"
  }
 },
 "nbformat": 4,
 "nbformat_minor": 2
}
