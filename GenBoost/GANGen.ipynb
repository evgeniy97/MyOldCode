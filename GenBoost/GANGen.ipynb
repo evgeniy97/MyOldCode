{
 "cells": [
  {
   "cell_type": "code",
   "execution_count": 38,
   "metadata": {},
   "outputs": [],
   "source": [
    "import copy\n",
    "\n",
    "import numpy as np\n",
    "import scipy\n",
    "from scipy import stats\n",
    "import tensorflow.keras as keras\n",
    "import matplotlib.pyplot as plt\n",
    "\n",
    "\n",
    "from keras.models import Sequential\n",
    "from keras.layers import Reshape, Flatten, LeakyReLU, Activation, Dense, BatchNormalization\n",
    "\n",
    "import pygmo as pg\n",
    "\n",
    "from IPython.display import clear_output\n",
    "# %matplotlib inline"
   ]
  },
  {
   "cell_type": "code",
   "execution_count": 7,
   "metadata": {},
   "outputs": [],
   "source": [
    "def generator():\n",
    "    model = Sequential()\n",
    "    model.add(Dense(32,input_dim=1,activation='tanh'))\n",
    "    #model.add(LeakyReLU(0.2))\n",
    "    #model.add(Activation('tanh'))\n",
    "    model.add(Dense(32,activation='tanh'))\n",
    "    #model.add(Activation('tanh'))\n",
    "    model.add(Dense(1,activation='linear'))\n",
    "    #model.add(Activation('tanh'))\n",
    "    return model"
   ]
  },
  {
   "cell_type": "code",
   "execution_count": 83,
   "metadata": {},
   "outputs": [],
   "source": [
    "def discriminator(sample, mu, sigma):\n",
    "    \"\"\"\n",
    "    Пока проверка на нормальность\n",
    "    \n",
    "    sample: list - выборка полученная от генератора\n",
    "    mu: float - среднее распределения\n",
    "    sigma: float - среднее квадратичное отклонение распределения\n",
    "    \"\"\"\n",
    "    pvalue = stats.ttest_ind(sample,np.random.normal(loc=mu,scale=sigma,size=1000))[1]\n",
    "    k2, p = stats.normaltest(sample)\n",
    "    if p < 1e-3: # штраф должен быть динамичным\n",
    "        hit = 100000000000\n",
    "    else: \n",
    "        hit = 0\n",
    "    return (np.mean(sample) - mu)**2 + (np.std(sample) - sigma)**2 + 0.0*pvalue + hit\n",
    "    # return np.mean(sample) - mu, np.std(sample) - sigma, -pvalue"
   ]
  },
  {
   "cell_type": "code",
   "execution_count": 9,
   "metadata": {},
   "outputs": [],
   "source": [
    "generator = generator()"
   ]
  },
  {
   "cell_type": "code",
   "execution_count": 10,
   "metadata": {
    "scrolled": false
   },
   "outputs": [
    {
     "name": "stdout",
     "output_type": "stream",
     "text": [
      "_________________________________________________________________\n",
      "Layer (type)                 Output Shape              Param #   \n",
      "=================================================================\n",
      "dense_4 (Dense)              (None, 32)                64        \n",
      "_________________________________________________________________\n",
      "dense_5 (Dense)              (None, 32)                1056      \n",
      "_________________________________________________________________\n",
      "dense_6 (Dense)              (None, 1)                 33        \n",
      "=================================================================\n",
      "Total params: 1,153\n",
      "Trainable params: 1,153\n",
      "Non-trainable params: 0\n",
      "_________________________________________________________________\n"
     ]
    }
   ],
   "source": [
    "generator.summary() # 1153 параметра"
   ]
  },
  {
   "cell_type": "code",
   "execution_count": 11,
   "metadata": {},
   "outputs": [],
   "source": [
    "class Problem:\n",
    "    def __init__(self, fit_func, dim=407050, lb=-1., rb=1.):\n",
    "        self.dim = dim\n",
    "        self.lb = lb\n",
    "        self.rb = rb\n",
    "        self.fit_func = fit_func\n",
    "        \n",
    "    def fitness(self, weights):\n",
    "        return self.fit_func(weights)\n",
    "\n",
    "    def get_bounds(self):\n",
    "        return (np.full((self.dim,), self.lb), np.full((self.dim,), self.rb))"
   ]
  },
  {
   "cell_type": "code",
   "execution_count": 12,
   "metadata": {},
   "outputs": [],
   "source": [
    "SAMPLE_SIZE = 10000\n",
    "REAL_MEAN = 5.0\n",
    "REAL_STD = 2.0"
   ]
  },
  {
   "cell_type": "code",
   "execution_count": 84,
   "metadata": {},
   "outputs": [],
   "source": [
    "def fit_func(weights):\n",
    "    # Раскидывает веса\n",
    "    weight_layer_one = np.array(weights[:32]).reshape(1,32)\n",
    "    weight_layer_two = np.array(weights[32:64]).reshape(32,)\n",
    "    weight_layer_three = np.array(weights[64:-65]).reshape(32,32)\n",
    "    weight_layer_four = np.array(weights[-65:-33]).reshape(32,)\n",
    "    weight_layer_five = np.array(weights[-33:-1]).reshape(32,1)\n",
    "    weight_layer_six = np.array(weights[-1:]).reshape(1,)\n",
    "\n",
    "    generator.set_weights([\n",
    "        weight_layer_one,\n",
    "        weight_layer_two,\n",
    "        weight_layer_three,\n",
    "        weight_layer_four,\n",
    "        weight_layer_five,\n",
    "        weight_layer_six\n",
    "    ])\n",
    "    \n",
    "    #\n",
    "    sample = generator.predict(np.linspace(0,1,SAMPLE_SIZE))\n",
    "    return discriminator(sample, REAL_MEAN,REAL_STD)"
   ]
  },
  {
   "cell_type": "code",
   "execution_count": 85,
   "metadata": {},
   "outputs": [],
   "source": [
    "my_prob = Problem(fit_func=fit_func, dim=1153, lb=-1., rb=1.) # Не уверен, что у него аргументы лежат у нуля "
   ]
  },
  {
   "cell_type": "code",
   "execution_count": 86,
   "metadata": {},
   "outputs": [],
   "source": [
    "algo = pg.algorithm(pg.sga(gen = 100))"
   ]
  },
  {
   "cell_type": "code",
   "execution_count": 87,
   "metadata": {},
   "outputs": [],
   "source": [
    "pop = pg.population(my_prob, 20)"
   ]
  },
  {
   "cell_type": "code",
   "execution_count": 88,
   "metadata": {},
   "outputs": [],
   "source": [
    "pop = algo.evolve(pop)"
   ]
  },
  {
   "cell_type": "code",
   "execution_count": 89,
   "metadata": {
    "scrolled": true
   },
   "outputs": [
    {
     "data": {
      "text/plain": [
       "array([3.30850767e-05])"
      ]
     },
     "execution_count": 89,
     "metadata": {},
     "output_type": "execute_result"
    }
   ],
   "source": [
    "pop.champion_f"
   ]
  },
  {
   "cell_type": "code",
   "execution_count": 90,
   "metadata": {},
   "outputs": [],
   "source": [
    "weights =  pop.champion_x"
   ]
  },
  {
   "cell_type": "code",
   "execution_count": 91,
   "metadata": {},
   "outputs": [],
   "source": [
    "    weight_layer_one = np.array(weights[:32]).reshape(1,32)\n",
    "    weight_layer_two = np.array(weights[32:64]).reshape(32,)\n",
    "    weight_layer_three = np.array(weights[64:-65]).reshape(32,32)\n",
    "    weight_layer_four = np.array(weights[-65:-33]).reshape(32,)\n",
    "    weight_layer_five = np.array(weights[-33:-1]).reshape(32,1)\n",
    "    weight_layer_six = np.array(weights[-1:]).reshape(1,)\n",
    "\n",
    "    generator.set_weights([\n",
    "        weight_layer_one,\n",
    "        weight_layer_two,\n",
    "        weight_layer_three,\n",
    "        weight_layer_four,\n",
    "        weight_layer_five,\n",
    "        weight_layer_six\n",
    "    ])\n",
    "    "
   ]
  },
  {
   "cell_type": "code",
   "execution_count": 92,
   "metadata": {},
   "outputs": [],
   "source": [
    "y = generator.predict(np.linspace(0,1,SAMPLE_SIZE))"
   ]
  },
  {
   "cell_type": "code",
   "execution_count": 93,
   "metadata": {},
   "outputs": [
    {
     "data": {
      "text/plain": [
       "array([3.30850767e-05])"
      ]
     },
     "execution_count": 93,
     "metadata": {},
     "output_type": "execute_result"
    }
   ],
   "source": [
    "discriminator(y,REAL_MEAN,REAL_STD)"
   ]
  },
  {
   "cell_type": "code",
   "execution_count": 94,
   "metadata": {},
   "outputs": [
    {
     "data": {
      "text/plain": [
       "(array([  8.,   6.,   7., 106., 158., 152., 147., 143., 139., 133., 131.,\n",
       "        126., 122., 121., 116., 114., 112., 108., 106., 103., 102.,  99.,\n",
       "         98.,  97.,  94.,  91.,  91.,  89.,  88.,  87.,  86.,  84.,  84.,\n",
       "         82.,  82.,  79.,  80.,  79.,  78.,  78.,  77.,  75.,  76.,  76.,\n",
       "         75.,  74.,  74.,  73.,  73.,  74.,  72.,  73.,  72.,  72.,  71.,\n",
       "         72.,  71.,  71.,  71.,  70.,  70.,  70.,  69.,  70.,  68.,  69.,\n",
       "         68.,  68.,  67.,  68.,  66.,  67.,  65.,  67.,  64.,  66.,  65.,\n",
       "         65.,  64.,  65.,  65.,  65.,  65.,  66.,  67.,  67.,  69.,  70.,\n",
       "         72.,  74.,  77.,  81.,  85.,  92., 100., 309., 450., 400., 307.,\n",
       "        710.]),\n",
       " array([1.6865612, 1.7464298, 1.8062983, 1.8661668, 1.9260354, 1.9859039,\n",
       "        2.0457726, 2.105641 , 2.1655095, 2.225378 , 2.2852466, 2.3451152,\n",
       "        2.4049838, 2.464852 , 2.5247207, 2.5845892, 2.6444578, 2.7043264,\n",
       "        2.764195 , 2.8240633, 2.8839319, 2.9438004, 3.003669 , 3.0635376,\n",
       "        3.1234062, 3.1832745, 3.243143 , 3.3030117, 3.3628802, 3.4227488,\n",
       "        3.4826174, 3.5424857, 3.6023543, 3.6622229, 3.7220914, 3.78196  ,\n",
       "        3.8418286, 3.901697 , 3.9615655, 4.0214343, 4.0813026, 4.141171 ,\n",
       "        4.20104  , 4.260908 , 4.320777 , 4.3806453, 4.4405136, 4.5003824,\n",
       "        4.5602508, 4.6201196, 4.679988 , 4.7398567, 4.799725 , 4.8595934,\n",
       "        4.919462 , 4.9793305, 5.0391994, 5.0990677, 5.158936 , 5.218805 ,\n",
       "        5.278673 , 5.338542 , 5.3984103, 5.458279 , 5.5181475, 5.578016 ,\n",
       "        5.6378846, 5.697753 , 5.757622 , 5.81749  , 5.8773584, 5.9372272,\n",
       "        5.9970956, 6.0569644, 6.1168327, 6.1767015, 6.23657  , 6.296438 ,\n",
       "        6.356307 , 6.4161754, 6.476044 , 6.5359125, 6.595781 , 6.6556497,\n",
       "        6.715518 , 6.775387 , 6.835255 , 6.895124 , 6.9549923, 7.0148606,\n",
       "        7.0747294, 7.134598 , 7.1944666, 7.254335 , 7.3142033, 7.374072 ,\n",
       "        7.4339404, 7.493809 , 7.5536776, 7.6135464, 7.6734147],\n",
       "       dtype=float32),\n",
       " <a list of 100 Patch objects>)"
      ]
     },
     "execution_count": 94,
     "metadata": {},
     "output_type": "execute_result"
    },
    {
     "data": {
      "image/png": "[encoded data removed]",
      "text/plain": [
       "<matplotlib.figure.Figure at 0x1d423c37748>"
      ]
     },
     "metadata": {},
     "output_type": "display_data"
    }
   ],
   "source": [
    "plt.hist(y, 100, label='Generated')"
   ]
  },
  {
   "cell_type": "code",
   "execution_count": null,
   "metadata": {},
   "outputs": [],
   "source": []
  },
  {
   "cell_type": "code",
   "execution_count": null,
   "metadata": {},
   "outputs": [],
   "source": []
  },
  {
   "cell_type": "code",
   "execution_count": null,
   "metadata": {},
   "outputs": [],
   "source": []
  },
  {
   "cell_type": "code",
   "execution_count": null,
   "metadata": {},
   "outputs": [],
   "source": []
  },
  {
   "cell_type": "code",
   "execution_count": null,
   "metadata": {},
   "outputs": [],
   "source": [
    "stats.shapiro(generator.predict(np.random.random(100))) \n",
    "# Тест на нормальность в принципе. При втором числе меньшк .01 или 0.05 можно не думать о том, что выборка из номарльного "
   ]
  },
  {
   "cell_type": "code",
   "execution_count": null,
   "metadata": {},
   "outputs": [],
   "source": [
    "stats.shapiro(np.random.normal(loc=10,scale=2,size=100))"
   ]
  },
  {
   "cell_type": "code",
   "execution_count": null,
   "metadata": {},
   "outputs": [],
   "source": [
    "data = np.random.normal(loc=10,scale=2,size=100)\n",
    "normaled_data = (data - .0)/1.0\n",
    "stats.kstest(normaled_data,'norm')"
   ]
  },
  {
   "cell_type": "code",
   "execution_count": null,
   "metadata": {},
   "outputs": [],
   "source": [
    "# Кажется надежнее просто смотреть на среднее и отклонение\n",
    "stats.ttest_ind(np.random.normal(loc=10,scale=2,size=100),np.random.normal(loc=10,scale=2,size=1000))"
   ]
  },
  {
   "cell_type": "code",
   "execution_count": null,
   "metadata": {},
   "outputs": [],
   "source": [
    "sample = [.111,1.3344,.434,.543]"
   ]
  },
  {
   "cell_type": "code",
   "execution_count": null,
   "metadata": {},
   "outputs": [],
   "source": [
    "np.std(sample)"
   ]
  }
 ],
 "metadata": {
  "kernelspec": {
   "display_name": "Python 3",
   "language": "python",
   "name": "python3"
  },
  "language_info": {
   "codemirror_mode": {
    "name": "ipython",
    "version": 3
   },
   "file_extension": ".py",
   "mimetype": "text/x-python",
   "name": "python",
   "nbconvert_exporter": "python",
   "pygments_lexer": "ipython3",
   "version": "3.6.4"
  }
 },
 "nbformat": 4,
 "nbformat_minor": 2
}
