{
 "cells": [
  {
   "cell_type": "markdown",
   "metadata": {},
   "source": [
    "Цель - оптимизировать квадратичную функцию"
   ]
  },
  {
   "cell_type": "code",
   "execution_count": null,
   "metadata": {},
   "outputs": [],
   "source": []
  },
  {
   "cell_type": "markdown",
   "metadata": {},
   "source": [
    "Декодирование"
   ]
  },
  {
   "cell_type": "code",
   "execution_count": 118,
   "metadata": {},
   "outputs": [],
   "source": [
    "# Вот это нужно\n",
    "import numpy as np\n",
    "\n",
    "#class GrayСode:\n",
    "#    \"\"\"\n",
    "#    \"\"\"\n",
    "#    def __init__(self,BinLen=32):\n",
    "#        self.BitString = np.random.randint(2, size=BinLen)\n",
    "\n",
    "def GrayСode(BinLen=32):\n",
    "    return np.random.randint(2, size=BinLen)"
   ]
  },
  {
   "cell_type": "code",
   "execution_count": 52,
   "metadata": {},
   "outputs": [],
   "source": [
    "# Тоже нужно\n",
    "def GrayToBinar(bit_string):\n",
    "    \"\"\"\n",
    "    Правило перевода из кода Грея в позиционный код: каждый разряд в позиционном\n",
    "    коде равен сумме по модулю два этого и всех старших разрядов в коде Грея\n",
    "    \"\"\"\n",
    "    return [sum(bit_string[:i]) % 2 for i in range(len(bit_string),0,-1)][::-1]"
   ]
  },
  {
   "cell_type": "code",
   "execution_count": 109,
   "metadata": {},
   "outputs": [],
   "source": [
    "# Нужно\n",
    "def BinaryToInt(bit_string):\n",
    "    \"\"\"\n",
    "    \"\"\"\n",
    "    return sum([int(x) * 2 ** y for x, y in zip(list(bit_string), range(len(bit_string) - 1, -1, -1))])"
   ]
  },
  {
   "cell_type": "code",
   "execution_count": 110,
   "metadata": {},
   "outputs": [
    {
     "data": {
      "text/plain": [
       "9"
      ]
     },
     "execution_count": 110,
     "metadata": {},
     "output_type": "execute_result"
    }
   ],
   "source": [
    "BinaryToInt([1, 0, 0, 1])"
   ]
  },
  {
   "cell_type": "code",
   "execution_count": 113,
   "metadata": {},
   "outputs": [],
   "source": [
    "# Работает\n",
    "class Decode:\n",
    "    \"\"\"\n",
    "    Полный цикл декодирования: Грей -> двоичный -> целое -> нецелое\n",
    "    \"\"\"\n",
    "    def __init__(self,a,b,bit_string):\n",
    "        self.A = a\n",
    "        self.B = b\n",
    "        self.BitString = bit_string\n",
    "        self.k = 2**len(bit_string) - 1 \n",
    "        self.h = (b - a)/(self.k - 1)\n",
    "    \n",
    "    def decode(self):\n",
    "        binary_srting = GrayToBinar(self.BitString)\n",
    "        #print('binary: ',binary_srting)\n",
    "        integer = BinaryToInt(binary_srting)\n",
    "        #print('integer: ',integer)\n",
    "        if integer == 0:\n",
    "            return self.A\n",
    "        elif integer == self.k:\n",
    "            return self.B\n",
    "        else:\n",
    "            return ((self.A + (integer - 1)*self.h + (self.A+integer*self.h)))/2"
   ]
  },
  {
   "cell_type": "code",
   "execution_count": 115,
   "metadata": {},
   "outputs": [
    {
     "data": {
      "text/plain": [
       "-0.25"
      ]
     },
     "execution_count": 115,
     "metadata": {},
     "output_type": "execute_result"
    }
   ],
   "source": [
    "Decode(-1,6,[0,0,1,1]).decode()"
   ]
  },
  {
   "cell_type": "code",
   "execution_count": null,
   "metadata": {},
   "outputs": [],
   "source": [
    "class GeneticBinar:\n",
    "    \"\"\"\n",
    "    docstring\n",
    "    \"\"\"\n",
    "    def __init__(self,GenNum=100,IndNum=10):\n",
    "        \"\"\"Constructor\"\"\"\n",
    "        self.number_of_individuals_in_population = IndNum\n",
    "        self.number_of_generation = GenNum\n",
    "        self.population = []"
   ]
  },
  {
   "cell_type": "markdown",
   "metadata": {},
   "source": [
    "Далее наивно делаем pipeline генетического алгоритма"
   ]
  },
  {
   "cell_type": "code",
   "execution_count": 124,
   "metadata": {},
   "outputs": [],
   "source": [
    "def f(x):\n",
    "    return -(x**2)"
   ]
  },
  {
   "cell_type": "code",
   "execution_count": 126,
   "metadata": {},
   "outputs": [],
   "source": [
    "a = -5\n",
    "b = 5"
   ]
  },
  {
   "cell_type": "code",
   "execution_count": 144,
   "metadata": {},
   "outputs": [
    {
     "data": {
      "text/plain": [
       "[array([0, 1, 1, 1]),\n",
       " array([1, 1, 0, 0]),\n",
       " array([0, 0, 0, 1]),\n",
       " array([0, 0, 1, 0])]"
      ]
     },
     "execution_count": 144,
     "metadata": {},
     "output_type": "execute_result"
    }
   ],
   "source": [
    "# step = 0\n",
    "IndNum = 4\n",
    "population = [GrayСode(4) for i in range(IndNum)] # Это вот инициализация \n",
    "population"
   ]
  },
  {
   "cell_type": "code",
   "execution_count": 145,
   "metadata": {
    "scrolled": false
   },
   "outputs": [
    {
     "name": "stdout",
     "output_type": "stream",
     "text": [
      "-1.7857142857142856\n",
      "0.3571428571428572\n",
      "-4.642857142857142\n",
      "-3.2142857142857144\n"
     ]
    }
   ],
   "source": [
    "for i in population:\n",
    "    print(Decode(a,b,i).decode())"
   ]
  },
  {
   "cell_type": "code",
   "execution_count": 146,
   "metadata": {},
   "outputs": [],
   "source": [
    "# Функция приспособленности\n",
    "def MyFunc(x):\n",
    "    return f(Decode(a,b,x).decode())"
   ]
  },
  {
   "cell_type": "code",
   "execution_count": 152,
   "metadata": {},
   "outputs": [
    {
     "data": {
      "text/plain": [
       "[array([1, 1, 0, 0]), array([0, 1, 1, 1])]"
      ]
     },
     "execution_count": 152,
     "metadata": {},
     "output_type": "execute_result"
    }
   ],
   "source": [
    "# Отбор родителей! Нужна функция приспособленности!\n",
    "population = sorted(population,key=MyFunc,reverse=True)# reversed = True, когда ищем максимум\n",
    "# Хотим взять n самых крутых родителей\n",
    "to_produce = population[:2]\n",
    "to_produce"
   ]
  },
  {
   "cell_type": "code",
   "execution_count": null,
   "metadata": {},
   "outputs": [],
   "source": [
    "# Тут надо скрестить родителей из to_produce"
   ]
  },
  {
   "cell_type": "code",
   "execution_count": 134,
   "metadata": {},
   "outputs": [],
   "source": [
    "# Тут случайно мутируем"
   ]
  },
  {
   "cell_type": "code",
   "execution_count": null,
   "metadata": {},
   "outputs": [],
   "source": [
    "# Тут добавляем детей в поколение, сортируем его, выбираем самых лучших, смотрим условие"
   ]
  }
 ],
 "metadata": {
  "kernelspec": {
   "display_name": "Python 3",
   "language": "python",
   "name": "python3"
  },
  "language_info": {
   "codemirror_mode": {
    "name": "ipython",
    "version": 3
   },
   "file_extension": ".py",
   "mimetype": "text/x-python",
   "name": "python",
   "nbconvert_exporter": "python",
   "pygments_lexer": "ipython3",
   "version": "3.6.4"
  }
 },
 "nbformat": 4,
 "nbformat_minor": 2
}
