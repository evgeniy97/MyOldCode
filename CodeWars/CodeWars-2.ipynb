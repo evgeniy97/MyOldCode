{
 "cells": [
  {
   "cell_type": "markdown",
   "metadata": {},
   "source": [
    "You have a positive number n consisting of digits. You can do at most one operation: Choosing the index of a digit in the number, remove this digit at that index and insert it back to another place in the number.\n",
    "\n",
    "Doing so, find the smallest number you can get.\n",
    "\n",
    "#Task: Return an array or a tuple or a string depending on the language (see \"Sample Tests\") with\n",
    "\n",
    "1) the smallest number you got\n",
    "2) the index i of the digit d you took, i as small as possible\n",
    "3) the index j (as small as possible) where you insert this digit d to have the smallest number.\n",
    "Example:\n",
    "\n",
    "smallest(261235) --> [126235, 2, 0] or (126235, 2, 0) or \"126235, 2, 0\"\n",
    "126235 is the smallest number gotten by taking 1 at index 2 and putting it at index 0\n",
    "\n",
    "smallest(209917) --> [29917, 0, 1] or ...\n",
    "\n",
    "[29917, 1, 0] could be a solution too but index `i` in [29917, 1, 0] is greater than \n",
    "index `i` in [29917, 0, 1].\n",
    "29917 is the smallest number gotten by taking 2 at index 0 and putting it at index 1 which gave 029917 which is the number 29917.\n",
    "\n",
    "smallest(1000000) --> [1, 0, 6] or ..."
   ]
  },
  {
   "cell_type": "code",
   "execution_count": 2,
   "metadata": {},
   "outputs": [],
   "source": [
    "import doctest"
   ]
  },
  {
   "cell_type": "code",
   "execution_count": 18,
   "metadata": {},
   "outputs": [],
   "source": [
    "def smallest(n):\n",
    "    \"\"\"\n",
    "    >>> smallest(261235)\n",
    "    [126235, 2, 0]\n",
    "    \n",
    "    >>> smallest(209917)\n",
    "    [29917, 0, 1]\n",
    "    \n",
    "    >>> smallest(1000000)\n",
    "    [1, 0, 6]\n",
    "    \"\"\"\n",
    "    n_as_str = str(n)\n",
    "    smallest_digit = n_as_str[0]\n",
    "    for digit in n_as_str:\n",
    "        if digit < smallest_digit:\n",
    "            smallest_digit = digit\n",
    "    output = smallest_digit\n",
    "    for index,digit in enumerate(n_as_str):\n",
    "        if index != n_as_str.index(smallest_digit):\n",
    "            output += digit\n",
    "    return output, n_as_str.index(smallest_digit), 0 "
   ]
  },
  {
   "cell_type": "code",
   "execution_count": 20,
   "metadata": {},
   "outputs": [
    {
     "data": {
      "text/plain": [
       "('09910', 3, 0)"
      ]
     },
     "execution_count": 20,
     "metadata": {},
     "output_type": "execute_result"
    }
   ],
   "source": [
    "# qiupingLu, wAmPHo >> Просто перебрать все возможные варианты\n",
    "def smallest(n):\n",
    "    s = str(n)\n",
    "    min1, from1, to1 = n, 0, 0\n",
    "    for i in range(len(s)):\n",
    "        removed = s[:i] + s[i+1:]\n",
    "        for j in range(len(removed)+1):\n",
    "            num = int(removed[:j] + s[i] + removed[j:])\n",
    "            if (num < min1):\n",
    "                min1, from1, to1 = num, i, j\n",
    "    return [min1, from1, to1] "
   ]
  },
  {
   "cell_type": "markdown",
   "metadata": {},
   "source": [
    "Complete the function scramble(str1, str2) that returns true if a portion of str1 characters can be rearranged to match str2, otherwise returns false.\n",
    "\n",
    "Notes:\n",
    "\n",
    "Only lower case letters will be used (a-z). No punctuation or digits will be included.\n",
    "Performance needs to be considered"
   ]
  },
  {
   "cell_type": "code",
   "execution_count": 8,
   "metadata": {},
   "outputs": [],
   "source": [
    "def scramble(source,pattern):\n",
    "    \"\"\"\n",
    "    >>> scramble('rkqodlw', 'world')\n",
    "    True\n",
    "    >>> scramble('cedewaraaossoqqyt', 'codewars')\n",
    "    True\n",
    "    >>> scramble('katas', 'steak')\n",
    "    False\n",
    "    \"\"\"\n",
    "    for letter in pattern:\n",
    "        if letter in source:\n",
    "            source = source.replace(letter,'',1)\n",
    "        else:\n",
    "            return False\n",
    "            break\n",
    "    return True"
   ]
  },
  {
   "cell_type": "code",
   "execution_count": 25,
   "metadata": {},
   "outputs": [],
   "source": [
    "def scramble(source,pattern):\n",
    "    \"\"\"\n",
    "    >>> scramble('rkqodlw', 'world')\n",
    "    True\n",
    "    >>> scramble('cedewaraaossoqqyt', 'codewars')\n",
    "    True\n",
    "    >>> scramble('katas', 'steak')\n",
    "    False\n",
    "    \"\"\"\n",
    "    uniq_symbols = set(pattern)\n",
    "    counted_pattern = {x: pattern.count(x) for x in uniq_symbols}\n",
    "    uniq_source = set(source)\n",
    "    counted_source = {x: source.count(x) for x in uniq_source}\n",
    "    for key, value in counted_pattern.items():\n",
    "        try:\n",
    "            if value > counted_source[key]:\n",
    "                return False\n",
    "        except:\n",
    "            return False\n",
    "    return True"
   ]
  },
  {
   "cell_type": "code",
   "execution_count": null,
   "metadata": {},
   "outputs": [],
   "source": [
    "def scramble(s1,s2):\n",
    "    for c in set(s2):\n",
    "        if s1.count(c) < s2.count(c):\n",
    "            return False\n",
    "    return True"
   ]
  },
  {
   "cell_type": "code",
   "execution_count": 27,
   "metadata": {},
   "outputs": [
    {
     "data": {
      "text/plain": [
       "TestResults(failed=0, attempted=3)"
      ]
     },
     "execution_count": 27,
     "metadata": {},
     "output_type": "execute_result"
    }
   ],
   "source": [
    "doctest.testmod()"
   ]
  },
  {
   "cell_type": "markdown",
   "metadata": {},
   "source": [
    "At a job interview, you are challenged to write an algorithm to check if a given string, s, can be formed from two other strings, part1 and part2.\n",
    "\n",
    "The restriction is that the characters in part1 and part2 are in the same order as in s.\n",
    "\n",
    "The interviewer gives you the following example and tells you to figure out the rest from the given test cases."
   ]
  },
  {
   "cell_type": "code",
   "execution_count": 46,
   "metadata": {},
   "outputs": [],
   "source": [
    "def is_merge(s, part1, part2):\n",
    "    \"\"\"\n",
    "    >>> is_merge('codewars', 'code', 'wars')\n",
    "    True\n",
    "    \n",
    "    >>> is_merge('codewars', 'cdw', 'oears')\n",
    "    True\n",
    "    \n",
    "    >>> is_merge('codewars', 'cod', 'wars')\n",
    "    False\n",
    "    \n",
    "    >>> is_merge('codewars','code','warss')\n",
    "    False\n",
    "    \n",
    "    >>> is_merge('codewars','codes','wars')\n",
    "    False\n",
    "    \"\"\"\n",
    "    index1,index2 = 0,0\n",
    "    if len(s) < len(part1 + part2): return False\n",
    "    for letter in s:\n",
    "        if (index1 < len(part1)) and (letter == part1[index1]):\n",
    "            index1 += 1\n",
    "        elif (index2 < len(part2)) and (letter == part2[index2]):\n",
    "            index2+=1\n",
    "        else:\n",
    "            return False\n",
    "    return True"
   ]
  },
  {
   "cell_type": "code",
   "execution_count": 53,
   "metadata": {},
   "outputs": [
    {
     "data": {
      "text/plain": [
       "False"
      ]
     },
     "execution_count": 53,
     "metadata": {},
     "output_type": "execute_result"
    }
   ],
   "source": [
    "is_merge('Bananas','Bahamas','nanas')"
   ]
  },
  {
   "cell_type": "code",
   "execution_count": 48,
   "metadata": {},
   "outputs": [
    {
     "data": {
      "text/plain": [
       "9"
      ]
     },
     "execution_count": 48,
     "metadata": {},
     "output_type": "execute_result"
    }
   ],
   "source": [
    "len('code' + 'warss')"
   ]
  },
  {
   "cell_type": "code",
   "execution_count": 49,
   "metadata": {},
   "outputs": [
    {
     "data": {
      "text/plain": [
       "TestResults(failed=0, attempted=8)"
      ]
     },
     "execution_count": 49,
     "metadata": {},
     "output_type": "execute_result"
    }
   ],
   "source": [
    "doctest.testmod()"
   ]
  },
  {
   "cell_type": "code",
   "execution_count": null,
   "metadata": {},
   "outputs": [],
   "source": []
  },
  {
   "cell_type": "code",
   "execution_count": null,
   "metadata": {},
   "outputs": [],
   "source": []
  }
 ],
 "metadata": {
  "kernelspec": {
   "display_name": "Python 3",
   "language": "python",
   "name": "python3"
  },
  "language_info": {
   "codemirror_mode": {
    "name": "ipython",
    "version": 3
   },
   "file_extension": ".py",
   "mimetype": "text/x-python",
   "name": "python",
   "nbconvert_exporter": "python",
   "pygments_lexer": "ipython3",
   "version": "3.6.4"
  }
 },
 "nbformat": 4,
 "nbformat_minor": 2
}
