{
 "cells": [
  {
   "cell_type": "code",
   "execution_count": 1,
   "metadata": {},
   "outputs": [],
   "source": [
    "import warnings\n",
    "warnings.filterwarnings('ignore')"
   ]
  },
  {
   "cell_type": "code",
   "execution_count": 3,
   "metadata": {},
   "outputs": [],
   "source": [
    "import pymysql"
   ]
  },
  {
   "cell_type": "code",
   "execution_count": 4,
   "metadata": {},
   "outputs": [],
   "source": [
    "pymysql.install_as_MySQLdb()"
   ]
  },
  {
   "cell_type": "code",
   "execution_count": 5,
   "metadata": {},
   "outputs": [],
   "source": [
    "import MySQLdb"
   ]
  },
  {
   "cell_type": "code",
   "execution_count": 9,
   "metadata": {},
   "outputs": [],
   "source": [
    "Connection = MySQLdb.connect(host='localhost',database='morgue',user='root',password='root', charset = \"utf8\", use_unicode = True\n",
    "                            , init_command='SET NAMES UTF8')"
   ]
  },
  {
   "cell_type": "code",
   "execution_count": 10,
   "metadata": {},
   "outputs": [],
   "source": [
    "#Connection.query('USE DATABASE')"
   ]
  },
  {
   "cell_type": "code",
   "execution_count": 11,
   "metadata": {},
   "outputs": [],
   "source": [
    "Cursor = Connection.cursor()"
   ]
  },
  {
   "cell_type": "code",
   "execution_count": 12,
   "metadata": {},
   "outputs": [
    {
     "data": {
      "text/plain": [
       "0"
      ]
     },
     "execution_count": 12,
     "metadata": {},
     "output_type": "execute_result"
    }
   ],
   "source": [
    "Cursor.execute('SET NAMES `utf8`')"
   ]
  },
  {
   "cell_type": "code",
   "execution_count": 116,
   "metadata": {},
   "outputs": [],
   "source": [
    "Cursor.execute(\"SELECT * FROM insurable\")\n",
    "for i in Cursor:\n",
    "    print(i)"
   ]
  },
  {
   "cell_type": "code",
   "execution_count": 182,
   "metadata": {},
   "outputs": [],
   "source": [
    "Cursor.execute(\"SELECT * FROM diagnosis\")\n",
    "for i in Cursor:\n",
    "    print(i)"
   ]
  },
  {
   "cell_type": "code",
   "execution_count": 19,
   "metadata": {},
   "outputs": [],
   "source": [
    "Cursor.close()"
   ]
  },
  {
   "cell_type": "code",
   "execution_count": 20,
   "metadata": {},
   "outputs": [],
   "source": [
    "Connection.commit()"
   ]
  },
  {
   "cell_type": "code",
   "execution_count": 8,
   "metadata": {},
   "outputs": [],
   "source": [
    "Connection.close()"
   ]
  },
  {
   "cell_type": "markdown",
   "metadata": {},
   "source": [
    "/* 10-20 запросов  \n",
    "1) Добавление / Удаление тела ++      \n",
    "2) Вывести тела за определенную дату +    \n",
    "3) Вывести тела, у которых не совпадает дата смерти и дата прибытия +  \n",
    "4) Вывести тела, которым поставил диагнозы определнный врач  \n",
    "5) Вывести все диагнозы конкретного тела  \n",
    "5) Вывести все тела с конкретным диагнозом  \n",
    "6) Вывести все тела с определленой страховой  \n",
    "7) Вывести все тела из опредленного морга  \n",
    "8) Вывести всех врачей из определленого морга  \n",
    "9) Добавить / Удаление карты  \n",
    "10) Из опредленного морга определенным числом  \n",
    "11) Вывести все диагнозы которые ставил определенный врач   \n",
    "12) Люди которые умерли в определенный период +   \n",
    "13) Добавить / удалить врача  \n",
    "14) Вывести тела рожденные до/ после даты ++   \n",
    "15) Вывести страховые для каждого тела  \n",
    "*/"
   ]
  },
  {
   "cell_type": "markdown",
   "metadata": {},
   "source": [
    "/* 10-20 запросов  \n",
    " \n",
    "1) Вывести тела, которым поставил диагнозы определнный врач  \n",
    "2) Вывести все диагнозы конкретного тела  \n",
    "3) Вывести все тела с конкретным диагнозом  \n",
    "4) Вывести все тела с определленой страховой  \n",
    "5) Вывести все тела из опредленного морга  \n",
    "5) Вывести всех врачей из определленого морга  \n",
    "6) Добавить / Удаление карты  \n",
    "7) Из опредленного морга определенным числом  \n",
    "8) Вывести все диагнозы которые ставил определенный врач   \n",
    "\n",
    "9) Добавить / удалить врача  \n",
    " \n",
    "10) Вывести страховые для каждого тела  \n",
    "11) Телефоны врачей которые ставили диагнозы определнному телу   \n",
    "*/"
   ]
  },
  {
   "cell_type": "code",
   "execution_count": 27,
   "metadata": {},
   "outputs": [],
   "source": [
    "def add_body(dictionary):\n",
    "    #print(\"INSERT INTO body VALUES ({number},{sex}, '{surname}', '{name}', '{date_arrived}', '{date_birth}','{date_death}', {id_insurable});\".format(**dictionary))\n",
    "    Cursor.execute(\"INSERT INTO body VALUES ({number},{sex}, '{surname}', '{name}', '{date_arrived}', '{date_birth}','{date_death}', {id_insurable});\".format(**dictionary))\n",
    "    for i in Cursor:\n",
    "        print(i)"
   ]
  },
  {
   "cell_type": "code",
   "execution_count": 28,
   "metadata": {},
   "outputs": [
    {
     "name": "stdout",
     "output_type": "stream",
     "text": [
      "INSERT INTO body VALUES (21,0, 'Vaslav', 'Jo', '2018-09-23', '1956-12-12','2018-09-23', 1);\n"
     ]
    }
   ],
   "source": [
    "# '2018-09-23', '1956-12-12', '2018-09-23', 1\n",
    "add_body(\n",
    "    {'number':21,'sex':0,'surname':'Vaslav','name':'Jo','date_arrived':'2018-09-23','date_birth':'1956-12-12','date_death':'2018-09-23','id_insurable':1})"
   ]
  },
  {
   "cell_type": "code",
   "execution_count": null,
   "metadata": {},
   "outputs": [],
   "source": [
    "def example(dictionary):\n",
    "    command = \"DELETE FROM body WHERE body_id={number}\".format(**dictionary)\n",
    "    print(command)\n",
    "    Cursor.execute(command)\n",
    "    for i in Cursor:\n",
    "        print(i)"
   ]
  },
  {
   "cell_type": "code",
   "execution_count": 43,
   "metadata": {},
   "outputs": [],
   "source": [
    "def delete_body(dictionary):\n",
    "    command = \"DELETE FROM body WHERE id_body={number}\".format(**dictionary)\n",
    "    print(command)\n",
    "    Cursor.execute(command)\n",
    "    for i in Cursor:\n",
    "        print(i)"
   ]
  },
  {
   "cell_type": "code",
   "execution_count": 44,
   "metadata": {},
   "outputs": [
    {
     "name": "stdout",
     "output_type": "stream",
     "text": [
      "DELETE FROM body WHERE id_body=21\n"
     ]
    }
   ],
   "source": [
    "delete_body({'number':21})"
   ]
  },
  {
   "cell_type": "code",
   "execution_count": 48,
   "metadata": {},
   "outputs": [],
   "source": [
    "def show_body(dictionary):\n",
    "    command = \"SELECT * FROM body WHERE date_arrived = '{date}' \".format(**dictionary)\n",
    "    print(command)\n",
    "    Cursor.execute(command)\n",
    "    for i in Cursor:\n",
    "        print(i)"
   ]
  },
  {
   "cell_type": "code",
   "execution_count": 49,
   "metadata": {},
   "outputs": [
    {
     "name": "stdout",
     "output_type": "stream",
     "text": [
      "SELECT * FROM body WHERE date_arrived = '2018-09-23' \n",
      "(1, b'0', 'Zhdanov', 'Petr', datetime.date(2018, 9, 23), datetime.date(1956, 12, 12), datetime.date(2018, 9, 23), 1)\n",
      "(4, b'1', 'Pereprugnov', 'Larissa', datetime.date(2018, 9, 23), datetime.date(1976, 10, 12), datetime.date(2018, 9, 23), 1)\n"
     ]
    }
   ],
   "source": [
    "show_body({'date':'2018-09-23'})"
   ]
  },
  {
   "cell_type": "code",
   "execution_count": 50,
   "metadata": {},
   "outputs": [],
   "source": [
    "def show_body_not_equale(dictionary):\n",
    "    command = \"SELECT * FROM body WHERE date_arrived != date_death \".format(**dictionary)\n",
    "    print(command)\n",
    "    Cursor.execute(command)\n",
    "    for i in Cursor:\n",
    "        print(i)"
   ]
  },
  {
   "cell_type": "code",
   "execution_count": 52,
   "metadata": {},
   "outputs": [
    {
     "name": "stdout",
     "output_type": "stream",
     "text": [
      "SELECT * FROM body WHERE date_arrived != date_death \n",
      "(2, b'0', 'Pipikov', 'Roman', datetime.date(2018, 9, 21), datetime.date(1986, 5, 14), datetime.date(2018, 9, 20), 1)\n",
      "(5, b'0', 'Kekov', 'Parsley', datetime.date(2018, 9, 21), datetime.date(1990, 1, 23), datetime.date(2018, 9, 20), 2)\n",
      "(8, b'0', 'Purov', 'Muri', datetime.date(2018, 9, 21), datetime.date(1979, 4, 6), datetime.date(2018, 9, 22), 2)\n",
      "(9, b'0', 'dead men', 'Hercules', datetime.date(2018, 9, 18), datetime.date(1959, 3, 6), datetime.date(2018, 9, 17), 2)\n",
      "(10, b'0', 'Purov', 'Muri', datetime.date(2018, 9, 21), datetime.date(1965, 11, 24), datetime.date(2018, 9, 22), 1)\n",
      "(20, b'0', 'Corpse', 'AYVA', datetime.date(2018, 9, 21), datetime.date(1956, 11, 19), datetime.date(2018, 9, 20), 1)\n"
     ]
    }
   ],
   "source": [
    "show_body_not_equale({})"
   ]
  },
  {
   "cell_type": "code",
   "execution_count": 64,
   "metadata": {},
   "outputs": [],
   "source": [
    "def show_body_between(dictionary):\n",
    "    command = \"SELECT * FROM body WHERE date_death BETWEEN '{date1}' AND '{date2}'\".format(**dictionary)\n",
    "    print(command)\n",
    "    Cursor.execute(command)\n",
    "    for i in Cursor:\n",
    "        print(i)"
   ]
  },
  {
   "cell_type": "code",
   "execution_count": 65,
   "metadata": {},
   "outputs": [
    {
     "name": "stdout",
     "output_type": "stream",
     "text": [
      "SELECT * FROM body WHERE date_death BETWEEN '2018-09-21' AND '2018-09-23'\n",
      "(1, b'0', 'Zhdanov', 'Petr', datetime.date(2018, 9, 23), datetime.date(1956, 12, 12), datetime.date(2018, 9, 23), 1)\n",
      "(4, b'1', 'Pereprugnov', 'Larissa', datetime.date(2018, 9, 23), datetime.date(1976, 10, 12), datetime.date(2018, 9, 23), 1)\n",
      "(8, b'0', 'Purov', 'Muri', datetime.date(2018, 9, 21), datetime.date(1979, 4, 6), datetime.date(2018, 9, 22), 2)\n",
      "(10, b'0', 'Purov', 'Muri', datetime.date(2018, 9, 21), datetime.date(1965, 11, 24), datetime.date(2018, 9, 22), 1)\n"
     ]
    }
   ],
   "source": [
    "show_body_between({'date1':'2018-09-21','date2':'2018-09-23'})"
   ]
  },
  {
   "cell_type": "code",
   "execution_count": 70,
   "metadata": {},
   "outputs": [],
   "source": [
    "def show_body_before(dictionary):\n",
    "    command = \"SELECT * FROM body WHERE date_birth < '{date}'\".format(**dictionary)\n",
    "    print(command)\n",
    "    Cursor.execute(command)\n",
    "    for i in Cursor:\n",
    "        print(i)"
   ]
  },
  {
   "cell_type": "code",
   "execution_count": 71,
   "metadata": {},
   "outputs": [
    {
     "name": "stdout",
     "output_type": "stream",
     "text": [
      "SELECT * FROM body WHERE date_birth < '1970-11-19'\n",
      "(1, b'0', 'Zhdanov', 'Petr', datetime.date(2018, 9, 23), datetime.date(1956, 12, 12), datetime.date(2018, 9, 23), 1)\n",
      "(6, b'0', 'Zhdunikov', 'Petr', datetime.date(2018, 9, 19), datetime.date(1967, 3, 12), datetime.date(2018, 9, 19), 1)\n",
      "(9, b'0', 'dead men', 'Hercules', datetime.date(2018, 9, 18), datetime.date(1959, 3, 6), datetime.date(2018, 9, 17), 2)\n",
      "(10, b'0', 'Purov', 'Muri', datetime.date(2018, 9, 21), datetime.date(1965, 11, 24), datetime.date(2018, 9, 22), 1)\n",
      "(11, b'1', 'Pupyrkina', 'Antonina', datetime.date(2018, 9, 20), datetime.date(1965, 11, 19), datetime.date(2018, 9, 20), 1)\n",
      "(12, b'1', 'Pup', 'Vladislav', datetime.date(2018, 9, 20), datetime.date(1919, 11, 19), datetime.date(2018, 9, 20), 1)\n",
      "(16, b'1', 'Pup', 'Tonic', datetime.date(2018, 9, 20), datetime.date(1925, 6, 14), datetime.date(2018, 9, 20), 2)\n",
      "(17, b'0', 'Akakaka', 'Akaki', datetime.date(2018, 9, 18), datetime.date(1953, 3, 2), datetime.date(2018, 9, 18), 1)\n",
      "(19, b'0', 'Homeless', 'Vladislav', datetime.date(2018, 9, 20), datetime.date(1919, 9, 19), datetime.date(2018, 9, 20), 1)\n",
      "(20, b'0', 'Corpse', 'AYVA', datetime.date(2018, 9, 21), datetime.date(1956, 11, 19), datetime.date(2018, 9, 20), 1)\n"
     ]
    }
   ],
   "source": [
    "show_body_before({'date':'1970-11-19'})"
   ]
  },
  {
   "cell_type": "code",
   "execution_count": 72,
   "metadata": {},
   "outputs": [],
   "source": [
    "def show_body_after(dictionary):\n",
    "    command = \"SELECT * FROM body WHERE date_birth > '{date}'\".format(**dictionary)\n",
    "    print(command)\n",
    "    Cursor.execute(command)\n",
    "    for i in Cursor:\n",
    "        print(i)"
   ]
  },
  {
   "cell_type": "code",
   "execution_count": 73,
   "metadata": {},
   "outputs": [
    {
     "name": "stdout",
     "output_type": "stream",
     "text": [
      "SELECT * FROM body WHERE date_birth > '1970-11-19'\n",
      "(2, b'0', 'Pipikov', 'Roman', datetime.date(2018, 9, 21), datetime.date(1986, 5, 14), datetime.date(2018, 9, 20), 1)\n",
      "(3, b'1', 'Pupkova', 'Maria', datetime.date(2018, 9, 20), datetime.date(1980, 11, 1), datetime.date(2018, 9, 20), 2)\n",
      "(4, b'1', 'Pereprugnov', 'Larissa', datetime.date(2018, 9, 23), datetime.date(1976, 10, 12), datetime.date(2018, 9, 23), 1)\n",
      "(5, b'0', 'Kekov', 'Parsley', datetime.date(2018, 9, 21), datetime.date(1990, 1, 23), datetime.date(2018, 9, 20), 2)\n",
      "(7, b'1', 'Populyatskaya', 'Yaroslav', datetime.date(2018, 9, 20), datetime.date(1983, 9, 17), datetime.date(2018, 9, 20), 2)\n",
      "(8, b'0', 'Purov', 'Muri', datetime.date(2018, 9, 21), datetime.date(1979, 4, 6), datetime.date(2018, 9, 22), 2)\n",
      "(14, b'0', 'Loa', 'Hua', datetime.date(2018, 9, 18), datetime.date(1992, 11, 25), datetime.date(2018, 9, 18), 1)\n",
      "(15, b'0', 'Nenene', 'Peak', datetime.date(2018, 9, 20), datetime.date(1985, 7, 30), datetime.date(2018, 9, 20), 2)\n",
      "(18, b'0', 'Pup', 'Vladislav', datetime.date(2018, 9, 17), datetime.date(1987, 2, 4), datetime.date(2018, 9, 17), 2)\n"
     ]
    }
   ],
   "source": [
    "show_body_after({'date':'1970-11-19'})"
   ]
  },
  {
   "cell_type": "markdown",
   "metadata": {},
   "source": [
    "/* 10-20 запросов  \n",
    "3) Вывести все тела из опредленного морга  \n",
    "4) Вывести всех врачей из определленого морга \n",
    "\n",
    "5) Из опредленного морга определенным числом  \n",
    "6) Вывести все диагнозы которые ставил определенный врач   \n",
    "*/"
   ]
  },
  {
   "cell_type": "code",
   "execution_count": null,
   "metadata": {},
   "outputs": [],
   "source": [
    "def example(dictionary):\n",
    "    command = \"DELETE FROM body WHERE body_id={number}\".format(**dictionary)\n",
    "    print(command)\n",
    "    Cursor.execute(command)\n",
    "    for i in Cursor:\n",
    "        print(i)"
   ]
  },
  {
   "cell_type": "code",
   "execution_count": 75,
   "metadata": {},
   "outputs": [],
   "source": [
    "def delete_doctor(dictionary):\n",
    "    command = \"DELETE FROM pathologist WHERE id_doctor={number}\".format(**dictionary)\n",
    "    print(command)\n",
    "    Cursor.execute(command)\n",
    "    for i in Cursor:\n",
    "        print(i)"
   ]
  },
  {
   "cell_type": "code",
   "execution_count": 78,
   "metadata": {},
   "outputs": [],
   "source": [
    "def add_doctor(dictionary):\n",
    "    command = \"INSERT INTO pathologist VALUES({number},{id_morgue},'{surname}','{name}','{phone}','{addres}')\".format(**dictionary)\n",
    "    print(command)\n",
    "    Cursor.execute(command)\n",
    "    for i in Cursor:\n",
    "        print(i)"
   ]
  },
  {
   "cell_type": "code",
   "execution_count": 79,
   "metadata": {},
   "outputs": [
    {
     "name": "stdout",
     "output_type": "stream",
     "text": [
      "INSERT INTO pathologist VALUES(10,1,'fdfs','dsd','21','dsad')\n"
     ]
    }
   ],
   "source": [
    "add_doctor({'number':10,'id_morgue':1,'surname':'fdfs','name':'dsd','phone':'21','addres':'dsad'})"
   ]
  },
  {
   "cell_type": "code",
   "execution_count": 81,
   "metadata": {},
   "outputs": [
    {
     "name": "stdout",
     "output_type": "stream",
     "text": [
      "DELETE FROM pathologist WHERE id_doctor=10\n"
     ]
    }
   ],
   "source": [
    "delete_doctor({'number':10})"
   ]
  },
  {
   "cell_type": "code",
   "execution_count": 83,
   "metadata": {},
   "outputs": [],
   "source": [
    "def add_card(dictionary):\n",
    "    command = \"INSERT INTO card VALUES({id_body},{id_diagnosis},{id_doctor})\".format(**dictionary)\n",
    "    print(command)\n",
    "    Cursor.execute(command)\n",
    "    for i in Cursor:\n",
    "        print(i)"
   ]
  },
  {
   "cell_type": "code",
   "execution_count": 87,
   "metadata": {},
   "outputs": [],
   "source": [
    "def delete_card(dictionary):\n",
    "    command = \"DELETE FROM card WHERE (id_body={id_body} AND id_diagnosis = {id_diagnosis})\".format(**dictionary)\n",
    "    print(command)\n",
    "    Cursor.execute(command)\n",
    "    for i in Cursor:\n",
    "        print(i)"
   ]
  },
  {
   "cell_type": "code",
   "execution_count": 85,
   "metadata": {},
   "outputs": [
    {
     "name": "stdout",
     "output_type": "stream",
     "text": [
      "INSERT INTO card VALUES(1,1,1)\n"
     ]
    }
   ],
   "source": [
    "add_card({'id_body':1,'id_diagnosis':1,'id_doctor':1})"
   ]
  },
  {
   "cell_type": "code",
   "execution_count": 88,
   "metadata": {},
   "outputs": [
    {
     "name": "stdout",
     "output_type": "stream",
     "text": [
      "DELETE FROM card WHERE (id_body=1 AND id_diagnosis = 1)\n"
     ]
    }
   ],
   "source": [
    "delete_card({'id_body':1,'id_diagnosis':1})"
   ]
  },
  {
   "cell_type": "code",
   "execution_count": 89,
   "metadata": {},
   "outputs": [],
   "source": [
    "def show_body_insurable(dictionary):\n",
    "    command = \"SELECT * FROM body WHERE id_insurable = '{id_insurable}'\".format(**dictionary)\n",
    "    print(command)\n",
    "    Cursor.execute(command)\n",
    "    for i in Cursor:\n",
    "        print(i)"
   ]
  },
  {
   "cell_type": "code",
   "execution_count": 90,
   "metadata": {},
   "outputs": [
    {
     "name": "stdout",
     "output_type": "stream",
     "text": [
      "SELECT * FROM body WHERE id_insurable = '1'\n",
      "(1, b'0', 'Zhdanov', 'Petr', datetime.date(2018, 9, 23), datetime.date(1956, 12, 12), datetime.date(2018, 9, 23), 1)\n",
      "(2, b'0', 'Pipikov', 'Roman', datetime.date(2018, 9, 21), datetime.date(1986, 5, 14), datetime.date(2018, 9, 20), 1)\n",
      "(4, b'1', 'Pereprugnov', 'Larissa', datetime.date(2018, 9, 23), datetime.date(1976, 10, 12), datetime.date(2018, 9, 23), 1)\n",
      "(6, b'0', 'Zhdunikov', 'Petr', datetime.date(2018, 9, 19), datetime.date(1967, 3, 12), datetime.date(2018, 9, 19), 1)\n",
      "(10, b'0', 'Purov', 'Muri', datetime.date(2018, 9, 21), datetime.date(1965, 11, 24), datetime.date(2018, 9, 22), 1)\n",
      "(11, b'1', 'Pupyrkina', 'Antonina', datetime.date(2018, 9, 20), datetime.date(1965, 11, 19), datetime.date(2018, 9, 20), 1)\n",
      "(12, b'1', 'Pup', 'Vladislav', datetime.date(2018, 9, 20), datetime.date(1919, 11, 19), datetime.date(2018, 9, 20), 1)\n",
      "(13, b'1', None, None, datetime.date(2018, 9, 20), None, datetime.date(2018, 9, 20), 1)\n",
      "(14, b'0', 'Loa', 'Hua', datetime.date(2018, 9, 18), datetime.date(1992, 11, 25), datetime.date(2018, 9, 18), 1)\n",
      "(17, b'0', 'Akakaka', 'Akaki', datetime.date(2018, 9, 18), datetime.date(1953, 3, 2), datetime.date(2018, 9, 18), 1)\n",
      "(19, b'0', 'Homeless', 'Vladislav', datetime.date(2018, 9, 20), datetime.date(1919, 9, 19), datetime.date(2018, 9, 20), 1)\n",
      "(20, b'0', 'Corpse', 'AYVA', datetime.date(2018, 9, 21), datetime.date(1956, 11, 19), datetime.date(2018, 9, 20), 1)\n"
     ]
    }
   ],
   "source": [
    "show_body_insurable({'id_insurable':1})"
   ]
  },
  {
   "cell_type": "code",
   "execution_count": 161,
   "metadata": {},
   "outputs": [],
   "source": [
    "# body.body_id, body.surname, body.name, insurable.name\n",
    "def show_insurable(dictionary):\n",
    "    # SECET можно доделать\n",
    "    command = \"SELECT body.id_body, body.surname, body.name, insurable.name FROM body LEFT JOIN insurable ON body.id_insurable = insurable.id_insurable\".format(**dictionary)\n",
    "    print(command)\n",
    "    Cursor.execute(command)\n",
    "    for i in Cursor:\n",
    "        print(i)"
   ]
  },
  {
   "cell_type": "code",
   "execution_count": 162,
   "metadata": {},
   "outputs": [
    {
     "name": "stdout",
     "output_type": "stream",
     "text": [
      "SELECT body.id_body, body.surname, body.name, insurable.name FROM body LEFT JOIN insurable ON body.id_insurable = insurable.id_insurable\n",
      "(1, 'Zhdanov', 'Petr', 'Name1')\n",
      "(2, 'Pipikov', 'Roman', 'Name1')\n",
      "(3, 'Pupkova', 'Maria', 'Name2')\n",
      "(4, 'Pereprugnov', 'Larissa', 'Name1')\n",
      "(5, 'Kekov', 'Parsley', 'Name2')\n",
      "(6, 'Zhdunikov', 'Petr', 'Name1')\n",
      "(7, 'Populyatskaya', 'Yaroslav', 'Name2')\n",
      "(8, 'Purov', 'Muri', 'Name2')\n",
      "(9, 'dead men', 'Hercules', 'Name2')\n",
      "(10, 'Purov', 'Muri', 'Name1')\n",
      "(11, 'Pupyrkina', 'Antonina', 'Name1')\n",
      "(12, 'Pup', 'Vladislav', 'Name1')\n",
      "(13, None, None, 'Name1')\n",
      "(14, 'Loa', 'Hua', 'Name1')\n",
      "(15, 'Nenene', 'Peak', 'Name2')\n",
      "(16, 'Pup', 'Tonic', 'Name2')\n",
      "(17, 'Akakaka', 'Akaki', 'Name1')\n",
      "(18, 'Pup', 'Vladislav', 'Name2')\n",
      "(19, 'Homeless', 'Vladislav', 'Name1')\n",
      "(20, 'Corpse', 'AYVA', 'Name1')\n"
     ]
    }
   ],
   "source": [
    "show_insurable({})"
   ]
  },
  {
   "cell_type": "code",
   "execution_count": 163,
   "metadata": {},
   "outputs": [],
   "source": [
    "# Вывести тела, которым поставил диагнозы определнный врач  \n",
    "def show_body_doctor(dictionary):\n",
    "    command = \"SELECT body.id_body, body.surname, body.name FROM body LEFT JOIN card ON body.id_body = card.id_body WHERE card.id_doctor = {id_doctor} \".format(**dictionary)\n",
    "    print(command)\n",
    "    Cursor.execute(command)\n",
    "    for i in Cursor:\n",
    "        print(i)"
   ]
  },
  {
   "cell_type": "code",
   "execution_count": 164,
   "metadata": {},
   "outputs": [
    {
     "name": "stdout",
     "output_type": "stream",
     "text": [
      "SELECT body.id_body, body.surname, body.name FROM body LEFT JOIN card ON body.id_body = card.id_body WHERE card.id_doctor = 1 \n",
      "(1, 'Zhdanov', 'Petr')\n",
      "(11, 'Pupyrkina', 'Antonina')\n",
      "(20, 'Corpse', 'AYVA')\n"
     ]
    }
   ],
   "source": [
    "show_body_doctor({'id_doctor':1})"
   ]
  },
  {
   "cell_type": "code",
   "execution_count": 179,
   "metadata": {},
   "outputs": [],
   "source": [
    "# Вывести все диагнозы конкретного тела\n",
    "def show_body_diagnosis(dictionary):\n",
    "    #command = \"SELECT body.id_body,body.surname, body.name, diagnosis.name FROM (body LEFT JOIN card ON body.id_body = card.id_body) LEFT JOIN diagnosis ON card.id_diagnosis = diagnosis.id_diagnosis WHERE card.id_body = {id_body}\".format(**dictionary)\n",
    "    command = \"SELECT diagnosis.name FROM card LEFT JOIN diagnosis ON diagnosis.id_diagnosis = card.id_diagnosis WHERE card.id_body = {id_body}\".format(**dictionary)\n",
    "    print(command)\n",
    "    Cursor.execute(command)\n",
    "    for i in Cursor:\n",
    "        print(i)"
   ]
  },
  {
   "cell_type": "code",
   "execution_count": 180,
   "metadata": {},
   "outputs": [
    {
     "name": "stdout",
     "output_type": "stream",
     "text": [
      "SELECT diagnosis.name FROM card LEFT JOIN diagnosis ON diagnosis.id_diagnosis = card.id_diagnosis WHERE card.id_body = 4\n",
      "(None,)\n",
      "(None,)\n"
     ]
    }
   ],
   "source": [
    "show_body_diagnosis({'id_body':4})"
   ]
  },
  {
   "cell_type": "code",
   "execution_count": 183,
   "metadata": {},
   "outputs": [],
   "source": [
    "# Вывести все тела с конкретным диагнозом \n",
    "def show_body_with_corrent_diagnosis(dictionary):\n",
    "    command = \"SELECT body.id_body, body.name, body.surname FROM card LEFT JOIN body ON card.id_body = body.id_body WHERE card.id_diagnosis = {id_diagnosis}\".format(**dictionary)\n",
    "    print(command)\n",
    "    Cursor.execute(command)\n",
    "    for i in Cursor:\n",
    "        print(i)"
   ]
  },
  {
   "cell_type": "code",
   "execution_count": 184,
   "metadata": {},
   "outputs": [
    {
     "name": "stdout",
     "output_type": "stream",
     "text": [
      "SELECT body.id_body, body.name, body.surname FROM card LEFT JOIN body ON card.id_body = body.id_body WHERE card.id_diagnosis = 2\n",
      "(1, 'Petr', 'Zhdanov')\n",
      "(6, 'Petr', 'Zhdunikov')\n",
      "(7, 'Yaroslav', 'Populyatskaya')\n",
      "(10, 'Muri', 'Purov')\n",
      "(12, 'Vladislav', 'Pup')\n",
      "(17, 'Akaki', 'Akakaka')\n"
     ]
    }
   ],
   "source": [
    "show_body_with_corrent_diagnosis({'id_diagnosis':2})"
   ]
  },
  {
   "cell_type": "markdown",
   "metadata": {},
   "source": [
    "/* 10-20 запросов   \n",
    "\n",
    "6) Вывести все диагнозы которые ставил определенный врач   \n",
    "*/"
   ]
  },
  {
   "cell_type": "code",
   "execution_count": null,
   "metadata": {},
   "outputs": [],
   "source": [
    "def example(dictionary):\n",
    "    command = \"DELETE FROM body WHERE body_id={number}\".format(**dictionary)\n",
    "    print(command)\n",
    "    Cursor.execute(command)\n",
    "    for i in Cursor:\n",
    "        print(i)"
   ]
  },
  {
   "cell_type": "code",
   "execution_count": 185,
   "metadata": {},
   "outputs": [],
   "source": [
    "def doctors_from_morgue(dictionary):\n",
    "    command = \"SELECT pathologist.id_doctor, pathologist.name, pathologist.surname FROM pathologist WHERE id_morgue={id_morgue}\".format(**dictionary)\n",
    "    print(command)\n",
    "    Cursor.execute(command)\n",
    "    for i in Cursor:\n",
    "        print(i)"
   ]
  },
  {
   "cell_type": "code",
   "execution_count": 186,
   "metadata": {},
   "outputs": [
    {
     "name": "stdout",
     "output_type": "stream",
     "text": [
      "SELECT pathologist.id_doctor, pathologist.name, pathologist.surname FROM pathologist WHERE id_morgue=1\n",
      "(1, 'Vlad', 'Chizhkov')\n",
      "(2, 'Ivan', 'Pushkov')\n"
     ]
    }
   ],
   "source": [
    "doctors_from_morgue({'id_morgue':1})"
   ]
  },
  {
   "cell_type": "code",
   "execution_count": 189,
   "metadata": {},
   "outputs": [],
   "source": [
    "# card LEFT JOIN body ON card.id_body = body.id_body\n",
    "def all_diagnosis_from_doctor(dictionary):\n",
    "    command = \"SELECT diagnosis.name FROM card LEFT JOIN diagnosis ON card.id_diagnosis = diagnosis.id_diagnosis WHERE id_doctor={id_doctor}\".format(**dictionary)\n",
    "    print(command)\n",
    "    Cursor.execute(command)\n",
    "    for i in Cursor:\n",
    "        print(i)"
   ]
  },
  {
   "cell_type": "code",
   "execution_count": 190,
   "metadata": {},
   "outputs": [
    {
     "name": "stdout",
     "output_type": "stream",
     "text": [
      "SELECT diagnosis.name FROM card LEFT JOIN diagnosis ON card.id_diagnosis = diagnosis.id_diagnosis WHERE id_doctor=1\n",
      "(None,)\n",
      "(None,)\n",
      "(None,)\n"
     ]
    }
   ],
   "source": [
    "all_diagnosis_from_doctor({'id_doctor':1})"
   ]
  },
  {
   "cell_type": "code",
   "execution_count": null,
   "metadata": {},
   "outputs": [],
   "source": []
  }
 ],
 "metadata": {
  "kernelspec": {
   "display_name": "Python 3",
   "language": "python",
   "name": "python3"
  },
  "language_info": {
   "codemirror_mode": {
    "name": "ipython",
    "version": 3
   },
   "file_extension": ".py",
   "mimetype": "text/x-python",
   "name": "python",
   "nbconvert_exporter": "python",
   "pygments_lexer": "ipython3",
   "version": "3.6.4"
  }
 },
 "nbformat": 4,
 "nbformat_minor": 2
}
