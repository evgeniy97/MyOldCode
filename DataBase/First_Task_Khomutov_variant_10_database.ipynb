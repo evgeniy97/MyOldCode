{
 "cells": [
  {
   "cell_type": "code",
   "execution_count": 9,
   "metadata": {},
   "outputs": [],
   "source": [
    "# -*- coding: utf-8-*-"
   ]
  },
  {
   "cell_type": "markdown",
   "metadata": {},
   "source": [
    "## Задание №1\n",
    "# Хомутов Евгений БПМ-151"
   ]
  },
  {
   "cell_type": "markdown",
   "metadata": {},
   "source": [
    "Отключим предупреждения Jupyter Notebook"
   ]
  },
  {
   "cell_type": "code",
   "execution_count": 10,
   "metadata": {},
   "outputs": [],
   "source": [
    "import warnings\n",
    "warnings.filterwarnings('ignore')"
   ]
  },
  {
   "cell_type": "markdown",
   "metadata": {},
   "source": [
    "http://snakeproject.ru/rubric/article.php?art=python_mysql  \n",
    "    "
   ]
  },
  {
   "cell_type": "markdown",
   "metadata": {},
   "source": [
    "Импорт библиотеки для работы с MySQL сервером"
   ]
  },
  {
   "cell_type": "code",
   "execution_count": 11,
   "metadata": {},
   "outputs": [],
   "source": [
    "import pymysql"
   ]
  },
  {
   "cell_type": "code",
   "execution_count": 12,
   "metadata": {},
   "outputs": [],
   "source": [
    "pymysql.install_as_MySQLdb()"
   ]
  },
  {
   "cell_type": "code",
   "execution_count": 13,
   "metadata": {},
   "outputs": [],
   "source": [
    "import MySQLdb"
   ]
  },
  {
   "cell_type": "markdown",
   "metadata": {},
   "source": [
    "Подключение к локальному серверу MySQL"
   ]
  },
  {
   "cell_type": "code",
   "execution_count": 14,
   "metadata": {},
   "outputs": [],
   "source": [
    "Connection = MySQLdb.connect(host='localhost',database='mysql',user='root',password='root', charset = \"utf8\", use_unicode = True\n",
    "                            , init_command='SET NAMES UTF8')"
   ]
  },
  {
   "cell_type": "markdown",
   "metadata": {},
   "source": [
    "Создание базы данных, если она не существует, с именем task1"
   ]
  },
  {
   "cell_type": "code",
   "execution_count": 15,
   "metadata": {},
   "outputs": [
    {
     "data": {
      "text/plain": [
       "1"
      ]
     },
     "execution_count": 15,
     "metadata": {},
     "output_type": "execute_result"
    }
   ],
   "source": [
    "Connection.query('CREATE DATABASE IF NOT EXISTS task1')"
   ]
  },
  {
   "cell_type": "markdown",
   "metadata": {},
   "source": [
    "Создание курсора и настройка кодировки"
   ]
  },
  {
   "cell_type": "code",
   "execution_count": 16,
   "metadata": {},
   "outputs": [],
   "source": [
    "Cursor = Connection.cursor()"
   ]
  },
  {
   "cell_type": "code",
   "execution_count": 17,
   "metadata": {},
   "outputs": [
    {
     "data": {
      "text/plain": [
       "0"
      ]
     },
     "execution_count": 17,
     "metadata": {},
     "output_type": "execute_result"
    }
   ],
   "source": [
    "Cursor.execute('SET NAMES `utf8`')"
   ]
  },
  {
   "cell_type": "markdown",
   "metadata": {},
   "source": [
    "Создание таблиц"
   ]
  },
  {
   "cell_type": "code",
   "execution_count": 18,
   "metadata": {},
   "outputs": [
    {
     "data": {
      "text/plain": [
       "0"
      ]
     },
     "execution_count": 18,
     "metadata": {},
     "output_type": "execute_result"
    }
   ],
   "source": [
    "Cursor.execute(\"CREATE TABLE IF NOT EXISTS supplier( idS VARCHAR(6) PRIMARY KEY NOT NULL, surname NCHAR(20), rating INT, city NCHAR(20) )\")"
   ]
  },
  {
   "cell_type": "code",
   "execution_count": 19,
   "metadata": {},
   "outputs": [
    {
     "data": {
      "text/plain": [
       "0"
      ]
     },
     "execution_count": 19,
     "metadata": {},
     "output_type": "execute_result"
    }
   ],
   "source": [
    "Cursor.execute(\"CREATE TABLE IF NOT EXISTS products ( idP VARCHAR(6) PRIMARY KEY NOT NULL, name NCHAR(20),color NCHAR(20) ,weight INT, city NCHAR(20))\")"
   ]
  },
  {
   "cell_type": "code",
   "execution_count": 20,
   "metadata": {},
   "outputs": [
    {
     "data": {
      "text/plain": [
       "0"
      ]
     },
     "execution_count": 20,
     "metadata": {},
     "output_type": "execute_result"
    }
   ],
   "source": [
    "Cursor.execute(\"CREATE TABLE IF NOT EXISTS item ( idJ VARCHAR(6) PRIMARY KEY NOT NULL , name NCHAR(20), city NCHAR(20))\")"
   ]
  },
  {
   "cell_type": "code",
   "execution_count": 21,
   "metadata": {},
   "outputs": [
    {
     "data": {
      "text/plain": [
       "0"
      ]
     },
     "execution_count": 21,
     "metadata": {},
     "output_type": "execute_result"
    }
   ],
   "source": [
    "Cursor.execute(\"CREATE TABLE IF NOT EXISTS supply ( idS VARCHAR(6) NOT NULL, idP VARCHAR(6) NOT NULL, idJ VARCHAR(6) NOT NULL, number int)\")"
   ]
  },
  {
   "cell_type": "markdown",
   "metadata": {},
   "source": [
    "Добавление столбца deliverydate в таблицу supply"
   ]
  },
  {
   "cell_type": "code",
   "execution_count": 22,
   "metadata": {},
   "outputs": [
    {
     "data": {
      "text/plain": [
       "0"
      ]
     },
     "execution_count": 22,
     "metadata": {},
     "output_type": "execute_result"
    }
   ],
   "source": [
    "Cursor.execute(\"ALTER TABLE supply ADD deliverydate DATE\")"
   ]
  },
  {
   "cell_type": "markdown",
   "metadata": {},
   "source": [
    "Заполнение таблиц"
   ]
  },
  {
   "cell_type": "code",
   "execution_count": 23,
   "metadata": {},
   "outputs": [
    {
     "data": {
      "text/plain": [
       "1"
      ]
     },
     "execution_count": 23,
     "metadata": {},
     "output_type": "execute_result"
    }
   ],
   "source": [
    "Cursor.execute(\"INSERT INTO supplier VALUES('S1','Smith',20,'London')\")\n",
    "Cursor.execute(\"INSERT INTO supplier VALUES('S2','Jones',10,'Paris')\")\n",
    "Cursor.execute(\"INSERT INTO supplier VALUES('S3','Blake',30,'Paris')\")\n",
    "Cursor.execute(\"INSERT INTO supplier VALUES('S4','Clarke',20,'London')\")\n",
    "Cursor.execute(\"INSERT INTO supplier VALUES('S5','Adams',30,'Athens')\")"
   ]
  },
  {
   "cell_type": "code",
   "execution_count": 24,
   "metadata": {},
   "outputs": [
    {
     "name": "stdout",
     "output_type": "stream",
     "text": [
      "('S1', 'Smith', 20, 'London')\n",
      "('S2', 'Jones', 10, 'Paris')\n",
      "('S3', 'Blake', 30, 'Paris')\n",
      "('S4', 'Clarke', 20, 'London')\n",
      "('S5', 'Adams', 30, 'Athens')\n"
     ]
    }
   ],
   "source": [
    "Cursor.execute(\"SELECT * FROM supplier\")\n",
    "for i in Cursor:\n",
    "    print(i)"
   ]
  },
  {
   "cell_type": "code",
   "execution_count": 25,
   "metadata": {},
   "outputs": [
    {
     "data": {
      "text/plain": [
       "1"
      ]
     },
     "execution_count": 25,
     "metadata": {},
     "output_type": "execute_result"
    }
   ],
   "source": [
    "Cursor.execute(\"INSERT INTO products VALUES('P1','nut','red',12,'London')\")\n",
    "Cursor.execute(\"INSERT INTO products VALUES('P2','bolt','green',17,'Paris')\")\n",
    "Cursor.execute(\"INSERT INTO products VALUES('P3','screw','blue',17,'Rome')\")\n",
    "Cursor.execute(\"INSERT INTO products VALUES('P4','screw','red',14,'London')\")\n",
    "Cursor.execute(\"INSERT INTO products VALUES('P5','tappet','blue',12,'Paris')\")\n",
    "Cursor.execute(\"INSERT INTO products VALUES('P6','bloom','red',19,'London')\")"
   ]
  },
  {
   "cell_type": "code",
   "execution_count": 26,
   "metadata": {},
   "outputs": [
    {
     "name": "stdout",
     "output_type": "stream",
     "text": [
      "('P1', 'nut', 'red', 12, 'London')\n",
      "('P2', 'bolt', 'green', 17, 'Paris')\n",
      "('P3', 'screw', 'blue', 17, 'Rome')\n",
      "('P4', 'screw', 'red', 14, 'London')\n",
      "('P5', 'tappet', 'blue', 12, 'Paris')\n",
      "('P6', 'bloom', 'red', 19, 'London')\n"
     ]
    }
   ],
   "source": [
    "Cursor.execute(\"SELECT * FROM products\")\n",
    "for i in Cursor:\n",
    "    print(i)"
   ]
  },
  {
   "cell_type": "code",
   "execution_count": 27,
   "metadata": {},
   "outputs": [
    {
     "data": {
      "text/plain": [
       "1"
      ]
     },
     "execution_count": 27,
     "metadata": {},
     "output_type": "execute_result"
    }
   ],
   "source": [
    "Cursor.execute(\"INSERT INTO item VALUES('J1','hard drive','Paris')\")\n",
    "Cursor.execute(\"INSERT INTO item VALUES('J2','perforator','Rome')\")\n",
    "Cursor.execute(\"INSERT INTO item VALUES('J3','redear','Athens')\")\n",
    "Cursor.execute(\"INSERT INTO item VALUES('J4','printer','Athens')\")\n",
    "Cursor.execute(\"INSERT INTO item VALUES('J5','floppy disk','London')\")\n",
    "Cursor.execute(\"INSERT INTO item VALUES('J6','terminal','Oslo')\")\n",
    "Cursor.execute(\"INSERT INTO item VALUES('J7','tape','London')\")"
   ]
  },
  {
   "cell_type": "code",
   "execution_count": 28,
   "metadata": {
    "scrolled": true
   },
   "outputs": [
    {
     "name": "stdout",
     "output_type": "stream",
     "text": [
      "('J1', 'hard drive', 'Paris')\n",
      "('J2', 'perforator', 'Rome')\n",
      "('J3', 'redear', 'Athens')\n",
      "('J4', 'printer', 'Athens')\n",
      "('J5', 'floppy disk', 'London')\n",
      "('J6', 'terminal', 'Oslo')\n",
      "('J7', 'tape', 'London')\n"
     ]
    }
   ],
   "source": [
    "Cursor.execute(\"SELECT * FROM item\")\n",
    "for i in Cursor:\n",
    "    print(i)"
   ]
  },
  {
   "cell_type": "code",
   "execution_count": 29,
   "metadata": {},
   "outputs": [
    {
     "data": {
      "text/plain": [
       "1"
      ]
     },
     "execution_count": 29,
     "metadata": {},
     "output_type": "execute_result"
    }
   ],
   "source": [
    "Cursor.execute(\"INSERT INTO supply VALUES('S1','P1','J1',200, Null)\")\n",
    "Cursor.execute(\"INSERT INTO supply VALUES('S1','P1','J4',700, Null)\")\n",
    "\n",
    "Cursor.execute(\"INSERT INTO supply VALUES('S2','P3','J1',400, Null)\")\n",
    "Cursor.execute(\"INSERT INTO supply VALUES('S2','P3','J2',200, Null)\")\n",
    "Cursor.execute(\"INSERT INTO supply VALUES('S2','P3','J3',200, Null)\")\n",
    "Cursor.execute(\"INSERT INTO supply VALUES('S2','P3','J4',500, Null)\")\n",
    "Cursor.execute(\"INSERT INTO supply VALUES('S2','P3','J5',600, Null)\")\n",
    "Cursor.execute(\"INSERT INTO supply VALUES('S2','P3','J6',400, Null)\")\n",
    "Cursor.execute(\"INSERT INTO supply VALUES('S2','P3','J7',800, Null)\")\n",
    "Cursor.execute(\"INSERT INTO supply VALUES('S2','P5','J2',100, Null)\")\n",
    "\n",
    "Cursor.execute(\"INSERT INTO supply VALUES('S3','P3','J1',200, Null)\")\n",
    "Cursor.execute(\"INSERT INTO supply VALUES('S3','P4','J2',500, Null)\")\n",
    "\n",
    "Cursor.execute(\"INSERT INTO supply VALUES('S4','P6','J3',300, Null)\")\n",
    "Cursor.execute(\"INSERT INTO supply VALUES('S4','P6','J7',300, Null)\")\n",
    "\n",
    "Cursor.execute(\"INSERT INTO supply VALUES('S5','P2','J2',200, Null)\")\n",
    "Cursor.execute(\"INSERT INTO supply VALUES('S5','P2','J4',100, Null)\")\n",
    "Cursor.execute(\"INSERT INTO supply VALUES('S5','P5','J5',500, Null)\")\n",
    "Cursor.execute(\"INSERT INTO supply VALUES('S5','P5','J7',100, Null)\")\n",
    "Cursor.execute(\"INSERT INTO supply VALUES('S5','P6','J2',200, Null)\")\n",
    "Cursor.execute(\"INSERT INTO supply VALUES('S5','P1','J4',100, Null)\")\n",
    "Cursor.execute(\"INSERT INTO supply VALUES('S5','P3','J4',200, Null)\")\n",
    "Cursor.execute(\"INSERT INTO supply VALUES('S5','P4','J4',800, Null)\")\n",
    "Cursor.execute(\"INSERT INTO supply VALUES('S5','P5','J4',400, Null)\")\n",
    "Cursor.execute(\"INSERT INTO supply VALUES('S5','P6','J4',500, Null)\")"
   ]
  },
  {
   "cell_type": "code",
   "execution_count": 30,
   "metadata": {
    "scrolled": false
   },
   "outputs": [
    {
     "name": "stdout",
     "output_type": "stream",
     "text": [
      "('S1', 'P1', 'J1', 200, None)\n",
      "('S1', 'P1', 'J4', 700, None)\n",
      "('S2', 'P3', 'J1', 400, None)\n",
      "('S2', 'P3', 'J2', 200, None)\n",
      "('S2', 'P3', 'J3', 200, None)\n",
      "('S2', 'P3', 'J4', 500, None)\n",
      "('S2', 'P3', 'J5', 600, None)\n",
      "('S2', 'P3', 'J6', 400, None)\n",
      "('S2', 'P3', 'J7', 800, None)\n",
      "('S2', 'P5', 'J2', 100, None)\n",
      "('S3', 'P3', 'J1', 200, None)\n",
      "('S3', 'P4', 'J2', 500, None)\n",
      "('S4', 'P6', 'J3', 300, None)\n",
      "('S4', 'P6', 'J7', 300, None)\n",
      "('S5', 'P2', 'J2', 200, None)\n",
      "('S5', 'P2', 'J4', 100, None)\n",
      "('S5', 'P5', 'J5', 500, None)\n",
      "('S5', 'P5', 'J7', 100, None)\n",
      "('S5', 'P6', 'J2', 200, None)\n",
      "('S5', 'P1', 'J4', 100, None)\n",
      "('S5', 'P3', 'J4', 200, None)\n",
      "('S5', 'P4', 'J4', 800, None)\n",
      "('S5', 'P5', 'J4', 400, None)\n",
      "('S5', 'P6', 'J4', 500, None)\n"
     ]
    }
   ],
   "source": [
    "Cursor.execute(\"SELECT * FROM supply\")\n",
    "for i in Cursor:\n",
    "    print(i)"
   ]
  },
  {
   "cell_type": "markdown",
   "metadata": {},
   "source": [
    "# Задание 1\n",
    "Выдать номера и фамилии поставщиков, поставляющих по крайней мере одну деталь, поставляемую по крайней мере одним поставщиком, который поставляет по крайней мере одну красную деталь."
   ]
  },
  {
   "cell_type": "code",
   "execution_count": 31,
   "metadata": {
    "scrolled": true
   },
   "outputs": [
    {
     "name": "stdout",
     "output_type": "stream",
     "text": [
      "('S1', 'Smith')\n",
      "('S2', 'Jones')\n",
      "('S3', 'Blake')\n",
      "('S4', 'Clarke')\n",
      "('S5', 'Adams')\n"
     ]
    }
   ],
   "source": [
    "Cursor.execute(\"SELECT idS, surname FROM supplier WHERE idS in \"\n",
    "              + \"( SELECT idS FROM supply WHERE  idP in \"\n",
    "              + \"(SELECT idP FROM products WHERE ( color = 'red'  OR name in (SELECT name FROM products WHERE color = 'red' ) ) )\"\n",
    "               + \"GROUP BY idS ) \" \n",
    "              )\n",
    "for i in Cursor:\n",
    "    print(i)"
   ]
  },
  {
   "cell_type": "markdown",
   "metadata": {},
   "source": [
    "# Задание 2\n",
    "Получить полный список деталей для всех изделий, изготавливаемых в Лондоне."
   ]
  },
  {
   "cell_type": "code",
   "execution_count": 32,
   "metadata": {
    "scrolled": true
   },
   "outputs": [
    {
     "name": "stdout",
     "output_type": "stream",
     "text": [
      "('P3',)\n",
      "('P6',)\n",
      "('P5',)\n"
     ]
    }
   ],
   "source": [
    "Cursor.execute(\"SELECT idP FROM supply WHERE idJ in (SELECT idJ from item WHERE city = 'London' ) GROUP BY idP\")\n",
    "for i in Cursor:\n",
    "    print(i)"
   ]
  },
  {
   "cell_type": "markdown",
   "metadata": {},
   "source": [
    "# Задание 3\n",
    "Построить таблицу, содержащую список номеров деталей, которые поставляются либо каким-нибудь поставщиком из Лондона, либо для какого-либо изделия в Лондон."
   ]
  },
  {
   "cell_type": "code",
   "execution_count": 33,
   "metadata": {},
   "outputs": [
    {
     "name": "stdout",
     "output_type": "stream",
     "text": [
      "('P1',)\n",
      "('P3',)\n",
      "('P6',)\n",
      "('P5',)\n"
     ]
    }
   ],
   "source": [
    "Cursor.execute(\n",
    "    \" CREATE TEMPORARY TABLE IF NOT EXISTS t1 (SELECT idP FROM supply WHERE ( idJ in (SELECT idJ from item WHERE city = 'London' ) )\" \n",
    "    +\n",
    "    \" OR ( idS in (SELECT idS from supplier WHERE city = 'London' )) GROUP BY idP ) \"\n",
    ")\n",
    "Cursor.execute(\n",
    "    \"SELECT * FROM t1\"\n",
    ")\n",
    "for i in Cursor:\n",
    "    print(i)"
   ]
  },
  {
   "cell_type": "markdown",
   "metadata": {},
   "source": [
    "# Задание 4\n",
    "Вставить в таблицу S нового поставщика с номером S10 с фамилией Уайт из города Нью-Йорк с неизвестным рейтингом."
   ]
  },
  {
   "cell_type": "code",
   "execution_count": 34,
   "metadata": {},
   "outputs": [
    {
     "name": "stdout",
     "output_type": "stream",
     "text": [
      "('S1', 'Smith', 20, 'London')\n",
      "('S10', 'Wight', None, 'New-York')\n",
      "('S2', 'Jones', 10, 'Paris')\n",
      "('S3', 'Blake', 30, 'Paris')\n",
      "('S4', 'Clarke', 20, 'London')\n",
      "('S5', 'Adams', 30, 'Athens')\n"
     ]
    }
   ],
   "source": [
    "Cursor.execute(\"INSERT INTO supplier VALUES('S10','Wight',Null,'New-York')\")\n",
    "Cursor.execute(\"SELECT * FROM supplier\")\n",
    "for i in Cursor:\n",
    "    print(i)"
   ]
  },
  {
   "cell_type": "markdown",
   "metadata": {},
   "source": [
    "# Задание 5\n",
    "Для каждой поставляемой для некоторого изделия детали выдать ее номер, номер изделия и соответствующее общее количество деталей."
   ]
  },
  {
   "cell_type": "code",
   "execution_count": 35,
   "metadata": {},
   "outputs": [
    {
     "name": "stdout",
     "output_type": "stream",
     "text": [
      "('P1', 'J1', 200)\n",
      "('P1', 'J4', 700)\n",
      "('P3', 'J1', 400)\n",
      "('P3', 'J2', 200)\n",
      "('P3', 'J3', 200)\n",
      "('P3', 'J4', 500)\n",
      "('P3', 'J5', 600)\n",
      "('P3', 'J6', 400)\n",
      "('P3', 'J7', 800)\n",
      "('P5', 'J2', 100)\n",
      "('P3', 'J1', 200)\n",
      "('P4', 'J2', 500)\n",
      "('P6', 'J3', 300)\n",
      "('P6', 'J7', 300)\n",
      "('P2', 'J2', 200)\n",
      "('P2', 'J4', 100)\n",
      "('P5', 'J5', 500)\n",
      "('P5', 'J7', 100)\n",
      "('P6', 'J2', 200)\n",
      "('P1', 'J4', 100)\n",
      "('P3', 'J4', 200)\n",
      "('P4', 'J4', 800)\n",
      "('P5', 'J4', 400)\n",
      "('P6', 'J4', 500)\n"
     ]
    }
   ],
   "source": [
    "Cursor.execute(\"SELECT idP, idJ, number FROM supply\")\n",
    "for i in Cursor:\n",
    "    print(i)"
   ]
  },
  {
   "cell_type": "markdown",
   "metadata": {},
   "source": [
    "# Задание 6\n",
    "Получить номера изделий, для которых детали полностью поставляет поставщик S2."
   ]
  },
  {
   "cell_type": "code",
   "execution_count": 36,
   "metadata": {
    "scrolled": true
   },
   "outputs": [
    {
     "name": "stdout",
     "output_type": "stream",
     "text": [
      "('J6',)\n"
     ]
    }
   ],
   "source": [
    "Cursor.execute(\n",
    "    \" SELECT idJ FROM supply WHERE idJ not in (SELECT idJ FROM supply WHERE idS in (SELECT idS FROM supply WHERE idS  != 'S2')  GROUP BY idJ) \" \n",
    ")\n",
    "for i in Cursor:\n",
    "    print(i)"
   ]
  },
  {
   "cell_type": "markdown",
   "metadata": {},
   "source": [
    "Удаление таблиц"
   ]
  },
  {
   "cell_type": "code",
   "execution_count": 37,
   "metadata": {
    "scrolled": true
   },
   "outputs": [
    {
     "data": {
      "text/plain": [
       "0"
      ]
     },
     "execution_count": 37,
     "metadata": {},
     "output_type": "execute_result"
    }
   ],
   "source": [
    "Cursor.execute(\"DROP TABLE supplier\")\n",
    "Cursor.execute(\"DROP TABLE products\")\n",
    "Cursor.execute(\"DROP TABLE item\")\n",
    "Cursor.execute(\"DROP TABLE supply\")"
   ]
  },
  {
   "cell_type": "markdown",
   "metadata": {},
   "source": [
    "Закрытие курсора"
   ]
  },
  {
   "cell_type": "code",
   "execution_count": 38,
   "metadata": {},
   "outputs": [],
   "source": [
    "Cursor.close()"
   ]
  },
  {
   "cell_type": "markdown",
   "metadata": {},
   "source": [
    "Удаление базы данных"
   ]
  },
  {
   "cell_type": "code",
   "execution_count": 39,
   "metadata": {},
   "outputs": [
    {
     "data": {
      "text/plain": [
       "0"
      ]
     },
     "execution_count": 39,
     "metadata": {},
     "output_type": "execute_result"
    }
   ],
   "source": [
    "Connection.query('DROP DATABASE task1')"
   ]
  },
  {
   "cell_type": "markdown",
   "metadata": {},
   "source": [
    "Сохранение изменения на сервере"
   ]
  },
  {
   "cell_type": "code",
   "execution_count": 40,
   "metadata": {},
   "outputs": [],
   "source": [
    "Connection.commit()"
   ]
  },
  {
   "cell_type": "markdown",
   "metadata": {},
   "source": [
    "Отключение от сервера"
   ]
  },
  {
   "cell_type": "code",
   "execution_count": 41,
   "metadata": {},
   "outputs": [],
   "source": [
    "Connection.close()"
   ]
  }
 ],
 "metadata": {
  "kernelspec": {
   "display_name": "Python 3",
   "language": "python",
   "name": "python3"
  },
  "language_info": {
   "codemirror_mode": {
    "name": "ipython",
    "version": 3
   },
   "file_extension": ".py",
   "mimetype": "text/x-python",
   "name": "python",
   "nbconvert_exporter": "python",
   "pygments_lexer": "ipython3",
   "version": "3.6.4"
  }
 },
 "nbformat": 4,
 "nbformat_minor": 2
}
